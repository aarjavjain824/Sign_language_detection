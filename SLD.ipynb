{
 "cells": [
  {
   "cell_type": "code",
   "execution_count": 2,
   "id": "e6a9232e",
   "metadata": {
    "colab": {
     "base_uri": "https://localhost:8080/"
    },
    "id": "e6a9232e",
    "outputId": "48a0e9f9-3c34-4c7b-8fa3-136fdd0df7a2",
    "scrolled": true
   },
   "outputs": [
    {
     "name": "stdout",
     "output_type": "stream",
     "text": [
      "Requirement already satisfied: tensorflow==2.4.1 in ./jupyterenv/lib/python3.8/site-packages (2.4.1)\n",
      "Requirement already satisfied: tensorflow-gpu==2.4.1 in ./jupyterenv/lib/python3.8/site-packages (2.4.1)\n",
      "Requirement already satisfied: opencv-python in ./jupyterenv/lib/python3.8/site-packages (4.5.2.54)\n",
      "Requirement already satisfied: mediapipe in ./jupyterenv/lib/python3.8/site-packages (0.8.6)\n",
      "Requirement already satisfied: sklearn in ./jupyterenv/lib/python3.8/site-packages (0.0)\n",
      "Requirement already satisfied: wheel~=0.35 in ./jupyterenv/lib/python3.8/site-packages (from tensorflow==2.4.1) (0.36.2)\n",
      "Requirement already satisfied: six~=1.15.0 in ./jupyterenv/lib/python3.8/site-packages (from tensorflow==2.4.1) (1.15.0)\n",
      "Requirement already satisfied: google-pasta~=0.2 in ./jupyterenv/lib/python3.8/site-packages (from tensorflow==2.4.1) (0.2.0)\n",
      "Requirement already satisfied: numpy~=1.19.2 in ./jupyterenv/lib/python3.8/site-packages (from tensorflow==2.4.1) (1.19.5)\n",
      "Requirement already satisfied: opt-einsum~=3.3.0 in ./jupyterenv/lib/python3.8/site-packages (from tensorflow==2.4.1) (3.3.0)\n",
      "Requirement already satisfied: protobuf>=3.9.2 in ./jupyterenv/lib/python3.8/site-packages (from tensorflow==2.4.1) (3.17.3)\n",
      "Requirement already satisfied: typing-extensions~=3.7.4 in ./jupyterenv/lib/python3.8/site-packages (from tensorflow==2.4.1) (3.7.4.3)\n",
      "Requirement already satisfied: termcolor~=1.1.0 in ./jupyterenv/lib/python3.8/site-packages (from tensorflow==2.4.1) (1.1.0)\n",
      "Requirement already satisfied: keras-preprocessing~=1.1.2 in ./jupyterenv/lib/python3.8/site-packages (from tensorflow==2.4.1) (1.1.2)\n",
      "Requirement already satisfied: h5py~=2.10.0 in ./jupyterenv/lib/python3.8/site-packages (from tensorflow==2.4.1) (2.10.0)\n",
      "Requirement already satisfied: absl-py~=0.10 in ./jupyterenv/lib/python3.8/site-packages (from tensorflow==2.4.1) (0.13.0)\n",
      "Requirement already satisfied: flatbuffers~=1.12.0 in ./jupyterenv/lib/python3.8/site-packages (from tensorflow==2.4.1) (1.12)\n",
      "Requirement already satisfied: wrapt~=1.12.1 in ./jupyterenv/lib/python3.8/site-packages (from tensorflow==2.4.1) (1.12.1)\n",
      "Requirement already satisfied: gast==0.3.3 in ./jupyterenv/lib/python3.8/site-packages (from tensorflow==2.4.1) (0.3.3)\n",
      "Requirement already satisfied: astunparse~=1.6.3 in ./jupyterenv/lib/python3.8/site-packages (from tensorflow==2.4.1) (1.6.3)\n",
      "Requirement already satisfied: tensorboard~=2.4 in ./jupyterenv/lib/python3.8/site-packages (from tensorflow==2.4.1) (2.5.0)\n",
      "Requirement already satisfied: grpcio~=1.32.0 in ./jupyterenv/lib/python3.8/site-packages (from tensorflow==2.4.1) (1.32.0)\n",
      "Requirement already satisfied: tensorflow-estimator<2.5.0,>=2.4.0 in ./jupyterenv/lib/python3.8/site-packages (from tensorflow==2.4.1) (2.4.0)\n",
      "Requirement already satisfied: google-auth-oauthlib<0.5,>=0.4.1 in ./jupyterenv/lib/python3.8/site-packages (from tensorboard~=2.4->tensorflow==2.4.1) (0.4.4)\n",
      "Requirement already satisfied: werkzeug>=0.11.15 in ./jupyterenv/lib/python3.8/site-packages (from tensorboard~=2.4->tensorflow==2.4.1) (2.0.1)\n",
      "Requirement already satisfied: setuptools>=41.0.0 in ./jupyterenv/lib/python3.8/site-packages (from tensorboard~=2.4->tensorflow==2.4.1) (57.0.0)\n",
      "Requirement already satisfied: google-auth<2,>=1.6.3 in ./jupyterenv/lib/python3.8/site-packages (from tensorboard~=2.4->tensorflow==2.4.1) (1.32.1)\n",
      "Requirement already satisfied: tensorboard-plugin-wit>=1.6.0 in ./jupyterenv/lib/python3.8/site-packages (from tensorboard~=2.4->tensorflow==2.4.1) (1.8.0)\n",
      "Requirement already satisfied: requests<3,>=2.21.0 in ./jupyterenv/lib/python3.8/site-packages (from tensorboard~=2.4->tensorflow==2.4.1) (2.25.1)\n",
      "Requirement already satisfied: markdown>=2.6.8 in ./jupyterenv/lib/python3.8/site-packages (from tensorboard~=2.4->tensorflow==2.4.1) (3.3.4)\n",
      "Requirement already satisfied: tensorboard-data-server<0.7.0,>=0.6.0 in ./jupyterenv/lib/python3.8/site-packages (from tensorboard~=2.4->tensorflow==2.4.1) (0.6.1)\n",
      "Requirement already satisfied: rsa<5,>=3.1.4 in ./jupyterenv/lib/python3.8/site-packages (from google-auth<2,>=1.6.3->tensorboard~=2.4->tensorflow==2.4.1) (4.7.2)\n",
      "Requirement already satisfied: pyasn1-modules>=0.2.1 in ./jupyterenv/lib/python3.8/site-packages (from google-auth<2,>=1.6.3->tensorboard~=2.4->tensorflow==2.4.1) (0.2.8)\n",
      "Requirement already satisfied: cachetools<5.0,>=2.0.0 in ./jupyterenv/lib/python3.8/site-packages (from google-auth<2,>=1.6.3->tensorboard~=2.4->tensorflow==2.4.1) (4.2.2)\n",
      "Requirement already satisfied: requests-oauthlib>=0.7.0 in ./jupyterenv/lib/python3.8/site-packages (from google-auth-oauthlib<0.5,>=0.4.1->tensorboard~=2.4->tensorflow==2.4.1) (1.3.0)\n",
      "Requirement already satisfied: pyasn1<0.5.0,>=0.4.6 in ./jupyterenv/lib/python3.8/site-packages (from pyasn1-modules>=0.2.1->google-auth<2,>=1.6.3->tensorboard~=2.4->tensorflow==2.4.1) (0.4.8)\n",
      "Requirement already satisfied: certifi>=2017.4.17 in ./jupyterenv/lib/python3.8/site-packages (from requests<3,>=2.21.0->tensorboard~=2.4->tensorflow==2.4.1) (2021.5.30)\n",
      "Requirement already satisfied: idna<3,>=2.5 in ./jupyterenv/lib/python3.8/site-packages (from requests<3,>=2.21.0->tensorboard~=2.4->tensorflow==2.4.1) (2.10)\n",
      "Requirement already satisfied: urllib3<1.27,>=1.21.1 in ./jupyterenv/lib/python3.8/site-packages (from requests<3,>=2.21.0->tensorboard~=2.4->tensorflow==2.4.1) (1.26.6)\n",
      "Requirement already satisfied: chardet<5,>=3.0.2 in ./jupyterenv/lib/python3.8/site-packages (from requests<3,>=2.21.0->tensorboard~=2.4->tensorflow==2.4.1) (4.0.0)\n",
      "Requirement already satisfied: oauthlib>=3.0.0 in ./jupyterenv/lib/python3.8/site-packages (from requests-oauthlib>=0.7.0->google-auth-oauthlib<0.5,>=0.4.1->tensorboard~=2.4->tensorflow==2.4.1) (3.1.1)\n",
      "Requirement already satisfied: opencv-contrib-python in ./jupyterenv/lib/python3.8/site-packages (from mediapipe) (4.5.2.54)\n",
      "Requirement already satisfied: attrs>=19.1.0 in ./jupyterenv/lib/python3.8/site-packages (from mediapipe) (21.2.0)\n",
      "Requirement already satisfied: matplotlib in ./jupyterenv/lib/python3.8/site-packages (from mediapipe) (3.4.2)\n",
      "Requirement already satisfied: scikit-learn in ./jupyterenv/lib/python3.8/site-packages (from sklearn) (0.24.2)\n",
      "Requirement already satisfied: cycler>=0.10 in ./jupyterenv/lib/python3.8/site-packages (from matplotlib->mediapipe) (0.10.0)\n",
      "Requirement already satisfied: python-dateutil>=2.7 in ./jupyterenv/lib/python3.8/site-packages (from matplotlib->mediapipe) (2.8.1)\n",
      "Requirement already satisfied: pyparsing>=2.2.1 in ./jupyterenv/lib/python3.8/site-packages (from matplotlib->mediapipe) (2.4.7)\n",
      "Requirement already satisfied: pillow>=6.2.0 in ./jupyterenv/lib/python3.8/site-packages (from matplotlib->mediapipe) (8.3.0)\n",
      "Requirement already satisfied: kiwisolver>=1.0.1 in ./jupyterenv/lib/python3.8/site-packages (from matplotlib->mediapipe) (1.3.1)\n",
      "Requirement already satisfied: threadpoolctl>=2.0.0 in ./jupyterenv/lib/python3.8/site-packages (from scikit-learn->sklearn) (2.1.0)\n",
      "Requirement already satisfied: scipy>=0.19.1 in ./jupyterenv/lib/python3.8/site-packages (from scikit-learn->sklearn) (1.7.0)\n",
      "Requirement already satisfied: joblib>=0.11 in ./jupyterenv/lib/python3.8/site-packages (from scikit-learn->sklearn) (1.0.1)\n"
     ]
    }
   ],
   "source": [
    "!pip install tensorflow==2.4.1 tensorflow-gpu==2.4.1 opencv-python mediapipe sklearn"
   ]
  },
  {
   "cell_type": "code",
   "execution_count": 3,
   "id": "68f17172",
   "metadata": {
    "id": "68f17172"
   },
   "outputs": [],
   "source": [
    "import numpy as np\n",
    "import matplotlib.pyplot as plt\n",
    "import os\n",
    "import mediapipe as mp\n",
    "import cv2\n",
    "import time"
   ]
  },
  {
   "cell_type": "markdown",
   "id": "0deaa0ae",
   "metadata": {
    "id": "0deaa0ae"
   },
   "source": [
    "# 1.KEYPOINTS HOLISTIC"
   ]
  },
  {
   "cell_type": "code",
   "execution_count": 4,
   "id": "68b35ec4",
   "metadata": {
    "id": "68b35ec4"
   },
   "outputs": [],
   "source": [
    "mp_holistic = mp.solutions.holistic\n",
    "mp_draw = mp.solutions.drawing_utils"
   ]
  },
  {
   "cell_type": "code",
   "execution_count": 5,
   "id": "6e48673c",
   "metadata": {
    "id": "6e48673c"
   },
   "outputs": [],
   "source": [
    "def feature_detect(image,model):\n",
    "    image = cv2.cvtColor(image,cv2.COLOR_BGR2RGB)\n",
    "    image.flags.writeable = False\n",
    "    result = model.process(image)\n",
    "    image.flags.writeable = True\n",
    "    image = cv2.cvtColor(image,cv2.COLOR_RGB2BGR)\n",
    "    return result"
   ]
  },
  {
   "cell_type": "code",
   "execution_count": 6,
   "id": "92a1e952",
   "metadata": {
    "id": "92a1e952"
   },
   "outputs": [],
   "source": [
    "##drawing standart land_marks on image\n",
    "def draw_features(image,features):\n",
    "    mp_draw.draw_landmarks(image,features.face_landmarks,mp_holistic.FACE_CONNECTIONS)\n",
    "    mp_draw.draw_landmarks(image,features.right_hand_landmarks,mp_holistic.HAND_CONNECTIONS)\n",
    "    mp_draw.draw_landmarks(image,features.left_hand_landmarks,mp_holistic.HAND_CONNECTIONS)\n",
    "    mp_draw.draw_landmarks(image,features.pose_landmarks,mp_holistic.POSE_CONNECTIONS)"
   ]
  },
  {
   "cell_type": "code",
   "execution_count": 7,
   "id": "6cb3f797",
   "metadata": {
    "id": "6cb3f797"
   },
   "outputs": [],
   "source": [
    "##creating stylish land_marks on image\n",
    "def draw_styled_features(image,features):\n",
    "    mp_draw.draw_landmarks(image,features.face_landmarks,mp_holistic.FACE_CONNECTIONS,\n",
    "                          mp_draw.DrawingSpec(color=(165,178,50),thickness=1,circle_radius=2),\n",
    "                          mp_draw.DrawingSpec(color=(165,178,50),thickness=1,circle_radius=1))\n",
    "    mp_draw.draw_landmarks(image,features.right_hand_landmarks,mp_holistic.HAND_CONNECTIONS,\n",
    "                          mp_draw.DrawingSpec(color=(165,178,50),thickness=2,circle_radius=2),\n",
    "                          mp_draw.DrawingSpec(color=(165,178,50),thickness=2,circle_radius=3))\n",
    "    mp_draw.draw_landmarks(image,features.left_hand_landmarks,mp_holistic.HAND_CONNECTIONS,\n",
    "                          mp_draw.DrawingSpec(color=(165,178,50),thickness=2,circle_radius=2),\n",
    "                          mp_draw.DrawingSpec(color=(165,178,50),thickness=2,circle_radius=3))\n",
    "    mp_draw.draw_landmarks(image,features.pose_landmarks,mp_holistic.POSE_CONNECTIONS,\n",
    "                          mp_draw.DrawingSpec(color=(243,11,11),thickness=4,circle_radius=2),\n",
    "                          mp_draw.DrawingSpec(color=(42,243,11),thickness=2,circle_radius=5))"
   ]
  },
  {
   "cell_type": "code",
   "execution_count": null,
   "id": "b05f8f4d",
   "metadata": {
    "id": "b05f8f4d",
    "outputId": "5431e2f3-5544-4bef-9147-1afb6c2da1ae"
   },
   "outputs": [
    {
     "name": "stderr",
     "output_type": "stream",
     "text": [
      "INFO: Created TensorFlow Lite XNNPACK delegate for CPU.\n"
     ]
    }
   ],
   "source": [
    "cap = cv2.VideoCapture(-1)\n",
    "with mp_holistic.Holistic(min_detection_confidence=0.5,min_tracking_confidence=0.5) as model:\n",
    "    while cap.isOpened():\n",
    "        ret,frame = cap.read()\n",
    "        \n",
    "        result= feature_detect(frame,model)\n",
    "        draw_styled_features(frame,result)\n",
    "        cv2.imshow('Myimage',frame)\n",
    "\n",
    "        if cv2.waitKey(1) & 0xFF == ord('q'):\n",
    "            break\n",
    "    cap.release()\n",
    "    cv2.destroyAllWindows()"
   ]
  },
  {
   "cell_type": "code",
   "execution_count": null,
   "id": "31eb6f5a",
   "metadata": {
    "id": "31eb6f5a"
   },
   "outputs": [],
   "source": [
    "mp_draw.draw_landmarks??"
   ]
  },
  {
   "cell_type": "code",
   "execution_count": null,
   "id": "2e0868a8",
   "metadata": {
    "id": "2e0868a8",
    "outputId": "5826d55b-0c37-4d6d-b8f4-f44406e74763"
   },
   "outputs": [
    {
     "data": {
      "text/plain": [
       "<matplotlib.image.AxesImage at 0x7ff6333ed250>"
      ]
     },
     "execution_count": 7,
     "metadata": {
      "tags": []
     },
     "output_type": "execute_result"
    },
    {
     "data": {
      "image/png": "[encoded data removed]",
      "text/plain": [
       "<Figure size 432x288 with 1 Axes>"
      ]
     },
     "metadata": {
      "needs_background": "light",
      "tags": []
     },
     "output_type": "display_data"
    }
   ],
   "source": [
    "plt.imshow(cv2.cvtColor(frame,cv2.COLOR_BGR2RGB))"
   ]
  },
  {
   "cell_type": "code",
   "execution_count": null,
   "id": "6ab71bc8",
   "metadata": {
    "id": "6ab71bc8",
    "outputId": "63dfc4ff-5df1-42df-a3b3-55f42f915954"
   },
   "outputs": [
    {
     "name": "stdout",
     "output_type": "stream",
     "text": [
      "No of landmarks on right hand:  21\n",
      "No of landmarks on left hand:  21\n",
      "No of landmarks on face:  468\n",
      "No of landmarks on pose:  33\n",
      "No of total landmarks:  543\n",
      "total number of features:  21 *3+ 21 *3+ 468 *3+ 33 *4: 1662\n"
     ]
    }
   ],
   "source": [
    "print(\"No of landmarks on right hand: \",len(result.right_hand_landmarks.landmark))\n",
    "print(\"No of landmarks on left hand: \",len(result.right_hand_landmarks.landmark))\n",
    "print(\"No of landmarks on face: \",len(result.face_landmarks.landmark))\n",
    "print(\"No of landmarks on pose: \",len(result.pose_landmarks.landmark))\n",
    "print(\"No of total landmarks: \",len(result.face_landmarks.landmark)+2*len(result.right_hand_landmarks.landmark)+len(result.pose_landmarks.landmark))\n",
    "print(\"total number of features: \",len(result.right_hand_landmarks.landmark),\"*3+\",len(result.right_hand_landmarks.landmark),\"*3+\",len(result.face_landmarks.landmark),\"*3+\",len(result.pose_landmarks.landmark),\"*4:\",len(result.right_hand_landmarks.landmark)*6+len(result.face_landmarks.landmark)*3+len(result.pose_landmarks.landmark)*4)"
   ]
  },
  {
   "cell_type": "code",
   "execution_count": 8,
   "id": "d78cf323",
   "metadata": {
    "id": "d78cf323"
   },
   "outputs": [],
   "source": [
    "def extract_features(result):\n",
    "    pose = np.array([[res.x,res.y,res.z,res.visibility] for res in result.pose_landmarks.landmark]).flatten() if result.pose_landmarks else np.zeros(33*4)\n",
    "    #print(\"shape of pose_features: \",pose.shape )\n",
    "    face = np.array([[res.x,res.y,res.z] for res in result.face_landmarks.landmark]).flatten() if result.face_landmarks else np.zeros(468*3)\n",
    "    #print(\"shape of face_features: \",face.shape )\n",
    "    lefth = np.array([[res.x,res.y,res.z] for res in result.left_hand_landmarks.landmark]).flatten() if result.left_hand_landmarks else np.zeros(21*3)\n",
    "    #print(\"shape of left hand_features: \",lefth.shape )\n",
    "    righth = np.array([[res.x,res.y,res.z] for res in result.right_hand_landmarks.landmark]).flatten() if result.right_hand_landmarks else np.zeros(21*3)\n",
    "    #print(\"shape of right hand_features: \",righth.shape )\n",
    "    return np.concatenate((pose,face,lefth,righth))"
   ]
  },
  {
   "cell_type": "code",
   "execution_count": null,
   "id": "616894df",
   "metadata": {
    "id": "616894df",
    "outputId": "432344a6-ceac-40db-fd67-06232786271e"
   },
   "outputs": [
    {
     "data": {
      "text/plain": [
       "(1662,)"
      ]
     },
     "execution_count": 10,
     "metadata": {
      "tags": []
     },
     "output_type": "execute_result"
    }
   ],
   "source": [
    "extract_features(result).shape"
   ]
  },
  {
   "cell_type": "markdown",
   "id": "faa1d851",
   "metadata": {
    "id": "faa1d851"
   },
   "source": [
    "# 2. Collection of dataset"
   ]
  },
  {
   "cell_type": "code",
   "execution_count": 9,
   "id": "6f04397b",
   "metadata": {
    "id": "6f04397b"
   },
   "outputs": [],
   "source": [
    "dir_path = \"SLD_dataset\"\n",
    "os.mkdir(dir_path)\n",
    "\n",
    "##actions to be recognised\n",
    "actions = [\"thank you\",\"hello\",\"i love you\"]\n",
    "##no of videos per action\n",
    "nexamples = 30\n",
    "##no of framses per video\n",
    "nframes = 30\n"
   ]
  },
  {
   "cell_type": "code",
   "execution_count": null,
   "id": "c926d830",
   "metadata": {
    "id": "c926d830"
   },
   "outputs": [],
   "source": [
    "##making directories for storing training data\n",
    "for action in actions:\n",
    "    subdir = os.path.join(dir_path,action)\n",
    "    os.mkdir(subdir)\n",
    "    for i in range(nexamples):\n",
    "        sample_path = os.path.join(subdir,str(i))\n",
    "        os.mkdir(sample_path)"
   ]
  },
  {
   "cell_type": "code",
   "execution_count": null,
   "id": "fd284c0c",
   "metadata": {
    "id": "fd284c0c"
   },
   "outputs": [],
   "source": [
    "cap = cv2.VideoCapture(-1)\n",
    "\n",
    "with mp_holistic.Holistic(min_detection_confidence=0.5,min_tracking_confidence=0.5) as model:\n",
    "    for action in actions:\n",
    "        for i in range(nexamples):\n",
    "            for j in range(nframes+1):\n",
    "                ret,image = cap.read()\n",
    "                \n",
    "                result = feature_detect(image,model)\n",
    "                draw_styled_features(image,result)\n",
    "                if i==0 and j==0:\n",
    "                    cv2.putText(image,'Action:{}'.format(action),(120,200),cv2.FONT_HERSHEY_SIMPLEX,1,(0,255.0,0),4,cv2.LINE_AA)\n",
    "                    cv2.imshow(\"collecting Data\",image)\n",
    "                    cv2.waitKey(5000)\n",
    "                elif j==0:\n",
    "                    cv2.putText(image,'Wait',(120,200),cv2.FONT_HERSHEY_SIMPLEX,1,(0,255.0,0),4,cv2.LINE_AA)\n",
    "                    cv2.imshow(\"collecting Data\",image)\n",
    "                    cv2.waitKey(1000)\n",
    "                else:\n",
    "                    cv2.putText(image,'collecting frames for action {} video number {}'.format(action,i),(15,12),cv2.FONT_HERSHEY_SIMPLEX,0.5,(0,0,255.0),1,cv2.LINE_AA)\n",
    "                    #saving the features for a frame in a .npy file\n",
    "                    np.save(os.path.join(dir_path,action,str(i),str(j)),extract_features(result))\n",
    "                    \n",
    "                cv2.imshow(\"collecting Data\",image)\n",
    "                \n",
    "                #breaking sataement\n",
    "                if cv2.waitKey(1)& 0xFF == ord('q'):\n",
    "                    break;\n",
    "            if cv2.waitKey(1)& 0xFF == ord('q'):\n",
    "                break;\n",
    "        if cv2.waitKey(1)& 0xFF == ord('q'):\n",
    "            break;\n",
    "    cap.release()\n",
    "    cv2.destroyAllWindows()"
   ]
  },
  {
   "cell_type": "code",
   "execution_count": null,
   "id": "eade25f6",
   "metadata": {
    "id": "eade25f6"
   },
   "outputs": [],
   "source": [
    "cap.release()\n",
    "cv2.destroyAllWindows()"
   ]
  },
  {
   "cell_type": "markdown",
   "id": "31f631f4",
   "metadata": {
    "id": "31f631f4"
   },
   "source": [
    "# 3. Preprocessing the data"
   ]
  },
  {
   "cell_type": "code",
   "execution_count": 14,
   "id": "70e56a4a",
   "metadata": {
    "id": "70e56a4a"
   },
   "outputs": [],
   "source": [
    "from sklearn.model_selection import train_test_split\n",
    "from tensorflow.keras.utils import to_categorical\n",
    "from sklearn.preprocessing import MinMaxScaler"
   ]
  },
  {
   "cell_type": "code",
   "execution_count": 11,
   "id": "556a0163",
   "metadata": {
    "colab": {
     "base_uri": "https://localhost:8080/"
    },
    "id": "556a0163",
    "outputId": "0092f666-99f9-4dc5-d7a3-1b3312403e3a"
   },
   "outputs": [
    {
     "data": {
      "text/plain": [
       "{'thank you': 0, 'hello': 1, 'i love you': 2}"
      ]
     },
     "execution_count": 11,
     "metadata": {},
     "output_type": "execute_result"
    }
   ],
   "source": [
    "#creating interger labels for the actions\n",
    "action_map = {action:num for num,action in enumerate(actions)}\n",
    "action_map"
   ]
  },
  {
   "cell_type": "code",
   "execution_count": null,
   "id": "b30151cb",
   "metadata": {
    "id": "b30151cb"
   },
   "outputs": [],
   "source": [
    "##concatenating the dataset\n",
    "data = []\n",
    "label = []\n",
    "for action in os.listdir(dir_path):\n",
    "    for video in range(nexamples):\n",
    "        window = []\n",
    "        for i in range(1,nframes+1):\n",
    "            res = np.load(os.path.join(dir_path,action,str(video),str(i)+\".npy\"))\n",
    "            window.append(res)\n",
    "        window = np.array(window)\n",
    "        data.append(window)\n",
    "        label.append(action_map[action])"
   ]
  },
  {
   "cell_type": "code",
   "execution_count": null,
   "id": "2cc0c7f4",
   "metadata": {
    "id": "2cc0c7f4",
    "outputId": "b8d11512-a54c-412f-8433-262c5df6c978"
   },
   "outputs": [
    {
     "name": "stdout",
     "output_type": "stream",
     "text": [
      "(90, 30, 1662)\n",
      "(90, 3)\n"
     ]
    }
   ],
   "source": [
    "data = np.array(data)\n",
    "target = to_categorical(label)\n",
    "print(data.shape)\n",
    "print(target.shape)"
   ]
  },
  {
   "cell_type": "code",
   "execution_count": 12,
   "id": "bNtLC1NBzREl",
   "metadata": {
    "id": "bNtLC1NBzREl"
   },
   "outputs": [],
   "source": [
    "target = np.load('target.npy')\n",
    "data = np.load('data.npy')"
   ]
  },
  {
   "cell_type": "code",
   "execution_count": 24,
   "id": "552c35b4",
   "metadata": {
    "colab": {
     "base_uri": "https://localhost:8080/"
    },
    "id": "552c35b4",
    "outputId": "81cbbefd-f228-471d-cde1-a66ae9a8fe2f"
   },
   "outputs": [
    {
     "name": "stdout",
     "output_type": "stream",
     "text": [
      "(81, 30, 1662)\n",
      "(9, 30, 1662)\n",
      "(81, 3)\n",
      "(9, 3)\n"
     ]
    }
   ],
   "source": [
    "x_train,x_test,y_train,y_test = train_test_split(data,target,test_size=0.1)\n",
    "print(x_train.shape)\n",
    "print(x_test.shape)\n",
    "print(y_train.shape)\n",
    "print(y_test.shape)"
   ]
  },
  {
   "cell_type": "markdown",
   "id": "4ad2c32e",
   "metadata": {
    "id": "4ad2c32e"
   },
   "source": [
    "# 3. Building and Training the Model using LSTM"
   ]
  },
  {
   "cell_type": "code",
   "execution_count": 25,
   "id": "5552dc0c",
   "metadata": {
    "id": "5552dc0c"
   },
   "outputs": [],
   "source": [
    "from tensorflow.keras.models import Sequential\n",
    "from tensorflow.keras.layers import LSTM,Dense,Dropout\n",
    "from tensorflow.keras.callbacks import TensorBoard"
   ]
  },
  {
   "cell_type": "code",
   "execution_count": 62,
   "id": "14c754bf",
   "metadata": {
    "id": "14c754bf"
   },
   "outputs": [
    {
     "name": "stderr",
     "output_type": "stream",
     "text": [
      "2021-07-05 17:01:17.999631: I tensorflow/core/profiler/lib/profiler_session.cc:136] Profiler session initializing.\n",
      "2021-07-05 17:01:17.999706: I tensorflow/core/profiler/lib/profiler_session.cc:155] Profiler session started.\n",
      "2021-07-05 17:01:17.999817: E tensorflow/core/profiler/internal/gpu/cupti_tracer.cc:1415] function cupti_interface_->Subscribe( &subscriber_, (CUpti_CallbackFunc)ApiCallback, this)failed with error CUPTI could not be loaded or symbol could not be found.\n",
      "2021-07-05 17:01:17.999869: I tensorflow/core/profiler/lib/profiler_session.cc:172] Profiler session tear down.\n",
      "2021-07-05 17:01:17.999906: E tensorflow/core/profiler/internal/gpu/cupti_tracer.cc:1496] function cupti_interface_->Finalize()failed with error CUPTI could not be loaded or symbol could not be found.\n"
     ]
    }
   ],
   "source": [
    "log_dir = os.path.join('logs')\n",
    "tb_callback = TensorBoard(log_dir=log_dir)"
   ]
  },
  {
   "cell_type": "code",
   "execution_count": 26,
   "id": "5698313c",
   "metadata": {
    "colab": {
     "base_uri": "https://localhost:8080/"
    },
    "id": "5698313c",
    "outputId": "445c8e87-cd5d-4340-f57d-45e8ecbd2eea"
   },
   "outputs": [],
   "source": [
    "model = Sequential()\n",
    "model.add(LSTM(64,activation='relu',return_sequences=True,input_shape=(30,1662)))\n",
    "model.add(LSTM(128,return_sequences=True,activation='relu'))\n",
    "model.add(LSTM(64,activation='relu'))\n",
    "model.add(Dense(64,activation='relu'))\n",
    "model.add(Dense(20,activation='relu'))\n",
    "model.add(Dense(target[0].shape[0],activation='softmax'))\n",
    "\n",
    "model.compile(optimizer='adam',loss='categorical_crossentropy',metrics=['categorical_accuracy'])"
   ]
  },
  {
   "cell_type": "code",
   "execution_count": 90,
   "id": "5dd6a3df",
   "metadata": {
    "colab": {
     "base_uri": "https://localhost:8080/"
    },
    "id": "5dd6a3df",
    "outputId": "7f9cab5b-345d-4a29-d368-15b3656772a5",
    "scrolled": true
   },
   "outputs": [
    {
     "name": "stdout",
     "output_type": "stream",
     "text": [
      "Epoch 1/300\n",
      "3/3 [==============================] - 4s 324ms/step - loss: 1.9349 - categorical_accuracy: 0.2803 - val_loss: 1.0920 - val_categorical_accuracy: 0.4444\n",
      "Epoch 2/300\n",
      "3/3 [==============================] - 0s 89ms/step - loss: 1.1725 - categorical_accuracy: 0.3727 - val_loss: 0.9334 - val_categorical_accuracy: 0.4444\n",
      "Epoch 3/300\n",
      "3/3 [==============================] - 0s 90ms/step - loss: 1.5594 - categorical_accuracy: 0.3184 - val_loss: 0.7067 - val_categorical_accuracy: 0.6667\n",
      "Epoch 4/300\n",
      "3/3 [==============================] - 0s 89ms/step - loss: 1.0060 - categorical_accuracy: 0.4214 - val_loss: 0.8257 - val_categorical_accuracy: 0.6667\n",
      "Epoch 5/300\n",
      "3/3 [==============================] - 0s 89ms/step - loss: 0.8493 - categorical_accuracy: 0.4768 - val_loss: 0.8581 - val_categorical_accuracy: 0.3333\n",
      "Epoch 6/300\n",
      "3/3 [==============================] - 0s 91ms/step - loss: 0.6833 - categorical_accuracy: 0.5870 - val_loss: 0.9044 - val_categorical_accuracy: 0.5556\n",
      "Epoch 7/300\n",
      "3/3 [==============================] - 0s 89ms/step - loss: 0.9759 - categorical_accuracy: 0.5619 - val_loss: 0.6979 - val_categorical_accuracy: 0.5556\n",
      "Epoch 8/300\n",
      "3/3 [==============================] - 0s 89ms/step - loss: 0.7465 - categorical_accuracy: 0.6111 - val_loss: 1.4136 - val_categorical_accuracy: 0.3333\n",
      "Epoch 9/300\n",
      "3/3 [==============================] - 0s 90ms/step - loss: 0.8284 - categorical_accuracy: 0.5821 - val_loss: 0.6864 - val_categorical_accuracy: 0.7778\n",
      "Epoch 10/300\n",
      "3/3 [==============================] - 0s 90ms/step - loss: 0.7312 - categorical_accuracy: 0.6676 - val_loss: 0.8079 - val_categorical_accuracy: 0.6667\n",
      "Epoch 11/300\n",
      "3/3 [==============================] - 0s 88ms/step - loss: 0.6563 - categorical_accuracy: 0.7801 - val_loss: 0.7149 - val_categorical_accuracy: 0.4444\n",
      "Epoch 12/300\n",
      "3/3 [==============================] - 0s 91ms/step - loss: 0.5815 - categorical_accuracy: 0.7561 - val_loss: 0.6510 - val_categorical_accuracy: 0.8889\n",
      "Epoch 13/300\n",
      "3/3 [==============================] - 0s 87ms/step - loss: 0.5049 - categorical_accuracy: 0.7906 - val_loss: 3.6673 - val_categorical_accuracy: 0.1111\n",
      "Epoch 14/300\n",
      "3/3 [==============================] - 0s 88ms/step - loss: 1.7962 - categorical_accuracy: 0.4231 - val_loss: 1.2054 - val_categorical_accuracy: 0.2222\n",
      "Epoch 15/300\n",
      "3/3 [==============================] - 0s 88ms/step - loss: 0.8729 - categorical_accuracy: 0.5697 - val_loss: 1.1318 - val_categorical_accuracy: 0.2222\n",
      "Epoch 16/300\n",
      "3/3 [==============================] - 0s 91ms/step - loss: 0.8139 - categorical_accuracy: 0.6322 - val_loss: 0.7858 - val_categorical_accuracy: 0.5556\n",
      "Epoch 17/300\n",
      "3/3 [==============================] - 0s 93ms/step - loss: 0.7717 - categorical_accuracy: 0.6016 - val_loss: 1.0451 - val_categorical_accuracy: 0.3333\n",
      "Epoch 18/300\n",
      "3/3 [==============================] - 0s 89ms/step - loss: 0.7719 - categorical_accuracy: 0.6022 - val_loss: 0.6767 - val_categorical_accuracy: 0.3333\n",
      "Epoch 19/300\n",
      "3/3 [==============================] - 0s 89ms/step - loss: 0.6351 - categorical_accuracy: 0.6777 - val_loss: 0.8939 - val_categorical_accuracy: 0.6667\n",
      "Epoch 20/300\n",
      "3/3 [==============================] - 0s 90ms/step - loss: 0.5931 - categorical_accuracy: 0.7548 - val_loss: 0.7202 - val_categorical_accuracy: 0.5556\n",
      "Epoch 21/300\n",
      "3/3 [==============================] - 0s 90ms/step - loss: 0.5932 - categorical_accuracy: 0.6989 - val_loss: 0.5239 - val_categorical_accuracy: 0.6667\n",
      "Epoch 22/300\n",
      "3/3 [==============================] - 0s 89ms/step - loss: 1.4866 - categorical_accuracy: 0.6244 - val_loss: 1.0791 - val_categorical_accuracy: 0.4444\n",
      "Epoch 23/300\n",
      "3/3 [==============================] - 0s 89ms/step - loss: 0.7350 - categorical_accuracy: 0.6156 - val_loss: 0.9288 - val_categorical_accuracy: 0.3333\n",
      "Epoch 24/300\n",
      "3/3 [==============================] - 0s 90ms/step - loss: 0.7070 - categorical_accuracy: 0.5932 - val_loss: 3.2849 - val_categorical_accuracy: 0.3333\n",
      "Epoch 25/300\n",
      "3/3 [==============================] - 0s 90ms/step - loss: 1.5226 - categorical_accuracy: 0.5568 - val_loss: 0.7848 - val_categorical_accuracy: 0.5556\n",
      "Epoch 26/300\n",
      "3/3 [==============================] - 0s 89ms/step - loss: 0.8238 - categorical_accuracy: 0.5259 - val_loss: 1.2953 - val_categorical_accuracy: 0.0000e+00\n",
      "Epoch 27/300\n",
      "3/3 [==============================] - 0s 88ms/step - loss: 0.8172 - categorical_accuracy: 0.5837 - val_loss: 0.7094 - val_categorical_accuracy: 0.6667\n",
      "Epoch 28/300\n",
      "3/3 [==============================] - 0s 92ms/step - loss: 0.8757 - categorical_accuracy: 0.5740 - val_loss: 0.6696 - val_categorical_accuracy: 0.7778\n",
      "Epoch 29/300\n",
      "3/3 [==============================] - 0s 91ms/step - loss: 0.8600 - categorical_accuracy: 0.6072 - val_loss: 0.9920 - val_categorical_accuracy: 0.5556\n",
      "Epoch 30/300\n",
      "3/3 [==============================] - 0s 90ms/step - loss: 0.7758 - categorical_accuracy: 0.6390 - val_loss: 0.9306 - val_categorical_accuracy: 0.5556\n",
      "Epoch 31/300\n",
      "3/3 [==============================] - 0s 91ms/step - loss: 0.6912 - categorical_accuracy: 0.6833 - val_loss: 0.6739 - val_categorical_accuracy: 0.4444\n",
      "Epoch 32/300\n",
      "3/3 [==============================] - 0s 88ms/step - loss: 0.7090 - categorical_accuracy: 0.6140 - val_loss: 0.6669 - val_categorical_accuracy: 0.6667\n",
      "Epoch 33/300\n",
      "3/3 [==============================] - 0s 88ms/step - loss: 0.5947 - categorical_accuracy: 0.7320 - val_loss: 0.7730 - val_categorical_accuracy: 0.8889\n",
      "Epoch 34/300\n",
      "3/3 [==============================] - 0s 87ms/step - loss: 0.5326 - categorical_accuracy: 0.8254 - val_loss: 0.6086 - val_categorical_accuracy: 0.6667\n",
      "Epoch 35/300\n",
      "3/3 [==============================] - 0s 88ms/step - loss: 0.5150 - categorical_accuracy: 0.7561 - val_loss: 0.5369 - val_categorical_accuracy: 0.8889\n",
      "Epoch 36/300\n",
      "3/3 [==============================] - 0s 93ms/step - loss: 0.4457 - categorical_accuracy: 0.7740 - val_loss: 0.6770 - val_categorical_accuracy: 0.6667\n",
      "Epoch 37/300\n",
      "3/3 [==============================] - 0s 89ms/step - loss: 0.5189 - categorical_accuracy: 0.7900 - val_loss: 0.6096 - val_categorical_accuracy: 0.6667\n",
      "Epoch 38/300\n",
      "3/3 [==============================] - 0s 90ms/step - loss: 0.5764 - categorical_accuracy: 0.7096 - val_loss: 0.5181 - val_categorical_accuracy: 0.8889\n",
      "Epoch 39/300\n",
      "3/3 [==============================] - 0s 89ms/step - loss: 0.4520 - categorical_accuracy: 0.7883 - val_loss: 0.5288 - val_categorical_accuracy: 0.7778\n",
      "Epoch 40/300\n",
      "3/3 [==============================] - 0s 89ms/step - loss: 0.5442 - categorical_accuracy: 0.7466 - val_loss: 0.7741 - val_categorical_accuracy: 0.5556\n",
      "Epoch 41/300\n",
      "3/3 [==============================] - 0s 90ms/step - loss: 0.4432 - categorical_accuracy: 0.8533 - val_loss: 0.6120 - val_categorical_accuracy: 0.6667\n",
      "Epoch 42/300\n",
      "3/3 [==============================] - 0s 92ms/step - loss: 0.4948 - categorical_accuracy: 0.7756 - val_loss: 0.5841 - val_categorical_accuracy: 0.8889\n",
      "Epoch 43/300\n",
      "3/3 [==============================] - 0s 89ms/step - loss: 0.4469 - categorical_accuracy: 0.8641 - val_loss: 0.4664 - val_categorical_accuracy: 0.8889\n",
      "Epoch 44/300\n",
      "3/3 [==============================] - 0s 88ms/step - loss: 0.4132 - categorical_accuracy: 0.8124 - val_loss: 0.5471 - val_categorical_accuracy: 0.8889\n",
      "Epoch 45/300\n",
      "3/3 [==============================] - 0s 89ms/step - loss: 0.4373 - categorical_accuracy: 0.8130 - val_loss: 0.4413 - val_categorical_accuracy: 0.8889\n",
      "Epoch 46/300\n",
      "3/3 [==============================] - 0s 90ms/step - loss: 0.3596 - categorical_accuracy: 0.8745 - val_loss: 0.5520 - val_categorical_accuracy: 0.7778\n",
      "Epoch 47/300\n",
      "3/3 [==============================] - 0s 90ms/step - loss: 0.3791 - categorical_accuracy: 0.7896 - val_loss: 1.0453 - val_categorical_accuracy: 0.4444\n",
      "Epoch 48/300\n",
      "3/3 [==============================] - 0s 90ms/step - loss: 0.5140 - categorical_accuracy: 0.7818 - val_loss: 1.1322 - val_categorical_accuracy: 0.3333\n",
      "Epoch 49/300\n",
      "3/3 [==============================] - 0s 90ms/step - loss: 0.6047 - categorical_accuracy: 0.6588 - val_loss: 0.6018 - val_categorical_accuracy: 0.6667\n",
      "Epoch 50/300\n",
      "3/3 [==============================] - 0s 88ms/step - loss: 0.4088 - categorical_accuracy: 0.8058 - val_loss: 0.3737 - val_categorical_accuracy: 0.8889\n"
     ]
    },
    {
     "name": "stdout",
     "output_type": "stream",
     "text": [
      "Epoch 51/300\n",
      "3/3 [==============================] - 0s 88ms/step - loss: 0.3381 - categorical_accuracy: 0.8517 - val_loss: 0.3728 - val_categorical_accuracy: 0.8889\n",
      "Epoch 52/300\n",
      "3/3 [==============================] - 0s 87ms/step - loss: 0.3103 - categorical_accuracy: 0.8797 - val_loss: 0.4815 - val_categorical_accuracy: 0.8889\n",
      "Epoch 53/300\n",
      "3/3 [==============================] - 0s 86ms/step - loss: 0.3101 - categorical_accuracy: 0.8791 - val_loss: 1.3113 - val_categorical_accuracy: 0.4444\n",
      "Epoch 54/300\n",
      "3/3 [==============================] - 0s 88ms/step - loss: 0.7043 - categorical_accuracy: 0.6722 - val_loss: 0.7133 - val_categorical_accuracy: 0.5556\n",
      "Epoch 55/300\n",
      "3/3 [==============================] - 0s 87ms/step - loss: 0.5500 - categorical_accuracy: 0.7639 - val_loss: 0.5521 - val_categorical_accuracy: 0.6667\n",
      "Epoch 56/300\n",
      "3/3 [==============================] - 0s 85ms/step - loss: 0.5384 - categorical_accuracy: 0.7766 - val_loss: 0.5781 - val_categorical_accuracy: 0.6667\n",
      "Epoch 57/300\n",
      "3/3 [==============================] - 0s 87ms/step - loss: 0.4945 - categorical_accuracy: 0.7815 - val_loss: 0.5891 - val_categorical_accuracy: 0.8889\n",
      "Epoch 58/300\n",
      "3/3 [==============================] - 0s 88ms/step - loss: 0.4389 - categorical_accuracy: 0.8735 - val_loss: 0.9921 - val_categorical_accuracy: 0.4444\n",
      "Epoch 59/300\n",
      "3/3 [==============================] - 0s 87ms/step - loss: 0.9189 - categorical_accuracy: 0.5759 - val_loss: 0.7008 - val_categorical_accuracy: 0.5556\n",
      "Epoch 60/300\n",
      "3/3 [==============================] - 0s 87ms/step - loss: 0.7956 - categorical_accuracy: 0.6156 - val_loss: 0.9279 - val_categorical_accuracy: 0.5556\n",
      "Epoch 61/300\n",
      "3/3 [==============================] - 0s 86ms/step - loss: 0.6532 - categorical_accuracy: 0.6201 - val_loss: 0.6350 - val_categorical_accuracy: 0.8889\n",
      "Epoch 62/300\n",
      "3/3 [==============================] - 0s 85ms/step - loss: 0.5231 - categorical_accuracy: 0.7919 - val_loss: 0.5493 - val_categorical_accuracy: 0.7778\n",
      "Epoch 63/300\n",
      "3/3 [==============================] - 0s 85ms/step - loss: 0.4365 - categorical_accuracy: 0.8478 - val_loss: 0.4960 - val_categorical_accuracy: 0.8889\n",
      "Epoch 64/300\n",
      "3/3 [==============================] - 0s 88ms/step - loss: 0.3688 - categorical_accuracy: 0.8875 - val_loss: 0.4089 - val_categorical_accuracy: 0.8889\n",
      "Epoch 65/300\n",
      "3/3 [==============================] - 0s 88ms/step - loss: 0.2876 - categorical_accuracy: 0.9076 - val_loss: 0.4028 - val_categorical_accuracy: 0.7778\n",
      "Epoch 66/300\n",
      "3/3 [==============================] - 0s 87ms/step - loss: 0.2676 - categorical_accuracy: 0.8953 - val_loss: 0.3037 - val_categorical_accuracy: 0.8889\n",
      "Epoch 67/300\n",
      "3/3 [==============================] - 0s 87ms/step - loss: 0.2647 - categorical_accuracy: 0.8976 - val_loss: 0.4516 - val_categorical_accuracy: 0.7778\n",
      "Epoch 68/300\n",
      "3/3 [==============================] - 0s 86ms/step - loss: 0.2582 - categorical_accuracy: 0.9099 - val_loss: 0.2547 - val_categorical_accuracy: 0.8889\n",
      "Epoch 69/300\n",
      "3/3 [==============================] - 0s 94ms/step - loss: 0.2284 - categorical_accuracy: 0.8875 - val_loss: 0.3214 - val_categorical_accuracy: 0.7778\n",
      "Epoch 70/300\n",
      "3/3 [==============================] - 0s 89ms/step - loss: 0.2242 - categorical_accuracy: 0.8976 - val_loss: 0.5712 - val_categorical_accuracy: 0.6667\n",
      "Epoch 71/300\n",
      "3/3 [==============================] - 0s 88ms/step - loss: 0.2649 - categorical_accuracy: 0.8579 - val_loss: 0.2904 - val_categorical_accuracy: 0.8889\n",
      "Epoch 72/300\n",
      "3/3 [==============================] - 0s 91ms/step - loss: 0.2654 - categorical_accuracy: 0.8585 - val_loss: 0.2738 - val_categorical_accuracy: 0.7778\n",
      "Epoch 73/300\n",
      "3/3 [==============================] - 0s 85ms/step - loss: 0.3764 - categorical_accuracy: 0.8355 - val_loss: 0.4078 - val_categorical_accuracy: 0.8889\n",
      "Epoch 74/300\n",
      "3/3 [==============================] - 0s 87ms/step - loss: 0.3541 - categorical_accuracy: 0.8445 - val_loss: 0.8171 - val_categorical_accuracy: 0.5556\n",
      "Epoch 75/300\n",
      "3/3 [==============================] - 0s 97ms/step - loss: 0.3653 - categorical_accuracy: 0.8098 - val_loss: 0.2284 - val_categorical_accuracy: 0.8889\n",
      "Epoch 76/300\n",
      "3/3 [==============================] - 0s 95ms/step - loss: 0.2281 - categorical_accuracy: 0.9070 - val_loss: 0.2644 - val_categorical_accuracy: 0.8889\n",
      "Epoch 77/300\n",
      "3/3 [==============================] - 0s 94ms/step - loss: 0.2662 - categorical_accuracy: 0.8735 - val_loss: 0.3227 - val_categorical_accuracy: 0.8889\n",
      "Epoch 78/300\n",
      "3/3 [==============================] - 0s 87ms/step - loss: 0.3098 - categorical_accuracy: 0.8478 - val_loss: 0.2861 - val_categorical_accuracy: 0.8889\n",
      "Epoch 79/300\n",
      "3/3 [==============================] - 0s 90ms/step - loss: 0.2389 - categorical_accuracy: 0.9216 - val_loss: 0.3095 - val_categorical_accuracy: 0.7778\n",
      "Epoch 80/300\n",
      "3/3 [==============================] - 0s 115ms/step - loss: 0.1498 - categorical_accuracy: 0.9356 - val_loss: 0.1908 - val_categorical_accuracy: 0.8889\n",
      "Epoch 81/300\n",
      "3/3 [==============================] - 0s 119ms/step - loss: 0.1733 - categorical_accuracy: 0.9356 - val_loss: 0.4350 - val_categorical_accuracy: 0.6667\n",
      "Epoch 82/300\n",
      "3/3 [==============================] - 0s 108ms/step - loss: 0.2683 - categorical_accuracy: 0.8696 - val_loss: 0.4282 - val_categorical_accuracy: 0.6667\n",
      "Epoch 83/300\n",
      "3/3 [==============================] - 0s 93ms/step - loss: 0.2006 - categorical_accuracy: 0.9177 - val_loss: 0.1673 - val_categorical_accuracy: 0.8889\n",
      "Epoch 84/300\n",
      "3/3 [==============================] - 0s 93ms/step - loss: 0.1797 - categorical_accuracy: 0.8943 - val_loss: 0.1659 - val_categorical_accuracy: 0.8889\n",
      "Epoch 85/300\n",
      "3/3 [==============================] - 0s 96ms/step - loss: 0.1493 - categorical_accuracy: 0.9239 - val_loss: 0.3798 - val_categorical_accuracy: 0.7778\n",
      "Epoch 86/300\n",
      "3/3 [==============================] - 0s 91ms/step - loss: 0.1430 - categorical_accuracy: 0.9083 - val_loss: 0.2492 - val_categorical_accuracy: 0.8889\n",
      "Epoch 87/300\n",
      "3/3 [==============================] - 0s 97ms/step - loss: 0.1280 - categorical_accuracy: 0.9418 - val_loss: 0.1445 - val_categorical_accuracy: 0.8889\n",
      "Epoch 88/300\n",
      "3/3 [==============================] - 0s 90ms/step - loss: 0.1785 - categorical_accuracy: 0.9239 - val_loss: 0.2551 - val_categorical_accuracy: 0.7778\n",
      "Epoch 89/300\n",
      "3/3 [==============================] - 0s 116ms/step - loss: 0.1359 - categorical_accuracy: 0.9122 - val_loss: 0.3917 - val_categorical_accuracy: 0.8889\n",
      "Epoch 90/300\n",
      "3/3 [==============================] - 0s 93ms/step - loss: 0.1120 - categorical_accuracy: 0.9379 - val_loss: 0.1571 - val_categorical_accuracy: 0.8889\n",
      "Epoch 91/300\n",
      "3/3 [==============================] - 0s 98ms/step - loss: 0.1104 - categorical_accuracy: 0.9239 - val_loss: 0.2061 - val_categorical_accuracy: 0.8889\n",
      "Epoch 92/300\n",
      "3/3 [==============================] - 0s 89ms/step - loss: 0.1541 - categorical_accuracy: 0.9083 - val_loss: 0.3463 - val_categorical_accuracy: 0.8889\n",
      "Epoch 93/300\n",
      "3/3 [==============================] - 0s 90ms/step - loss: 0.2212 - categorical_accuracy: 0.9122 - val_loss: 0.1138 - val_categorical_accuracy: 1.0000\n",
      "Epoch 94/300\n",
      "3/3 [==============================] - 0s 99ms/step - loss: 0.1729 - categorical_accuracy: 0.9262 - val_loss: 0.2818 - val_categorical_accuracy: 0.7778\n",
      "Epoch 95/300\n",
      "3/3 [==============================] - 0s 96ms/step - loss: 0.1312 - categorical_accuracy: 0.9720 - val_loss: 0.3749 - val_categorical_accuracy: 0.8889\n",
      "Epoch 96/300\n",
      "3/3 [==============================] - 0s 96ms/step - loss: 0.1103 - categorical_accuracy: 0.9356 - val_loss: 0.1824 - val_categorical_accuracy: 0.8889\n",
      "Epoch 97/300\n",
      "3/3 [==============================] - 0s 94ms/step - loss: 0.1137 - categorical_accuracy: 0.9441 - val_loss: 0.1621 - val_categorical_accuracy: 0.8889\n",
      "Epoch 98/300\n",
      "3/3 [==============================] - 0s 104ms/step - loss: 0.0632 - categorical_accuracy: 0.9776 - val_loss: 0.1322 - val_categorical_accuracy: 0.8889\n",
      "Epoch 99/300\n",
      "3/3 [==============================] - 0s 106ms/step - loss: 0.0862 - categorical_accuracy: 0.9457 - val_loss: 0.0775 - val_categorical_accuracy: 1.0000\n",
      "Epoch 100/300\n"
     ]
    },
    {
     "name": "stdout",
     "output_type": "stream",
     "text": [
      "3/3 [==============================] - 0s 94ms/step - loss: 0.0770 - categorical_accuracy: 0.9659 - val_loss: 0.1464 - val_categorical_accuracy: 0.8889\n",
      "Epoch 101/300\n",
      "3/3 [==============================] - 0s 90ms/step - loss: 0.0389 - categorical_accuracy: 0.9837 - val_loss: 0.1030 - val_categorical_accuracy: 1.0000\n",
      "Epoch 102/300\n",
      "3/3 [==============================] - 0s 88ms/step - loss: 0.0362 - categorical_accuracy: 0.9938 - val_loss: 0.0548 - val_categorical_accuracy: 1.0000\n",
      "Epoch 103/300\n",
      "3/3 [==============================] - 0s 91ms/step - loss: 0.0501 - categorical_accuracy: 0.9938 - val_loss: 0.1044 - val_categorical_accuracy: 0.8889\n",
      "Epoch 104/300\n",
      "3/3 [==============================] - 0s 98ms/step - loss: 0.0962 - categorical_accuracy: 0.9759 - val_loss: 17.5942 - val_categorical_accuracy: 0.2222\n",
      "Epoch 105/300\n",
      "3/3 [==============================] - 0s 90ms/step - loss: 20.1313 - categorical_accuracy: 0.4784 - val_loss: 22.5007 - val_categorical_accuracy: 0.4444\n",
      "Epoch 106/300\n",
      "3/3 [==============================] - 0s 92ms/step - loss: 18.2658 - categorical_accuracy: 0.3050 - val_loss: 3.3602 - val_categorical_accuracy: 0.4444\n",
      "Epoch 107/300\n",
      "3/3 [==============================] - 0s 99ms/step - loss: 5.2416 - categorical_accuracy: 0.3616 - val_loss: 2.3369 - val_categorical_accuracy: 0.4444\n",
      "Epoch 108/300\n",
      "3/3 [==============================] - 0s 93ms/step - loss: 4.0779 - categorical_accuracy: 0.2514 - val_loss: 6.2209 - val_categorical_accuracy: 0.1111\n",
      "Epoch 109/300\n",
      "3/3 [==============================] - 0s 89ms/step - loss: 2.5905 - categorical_accuracy: 0.3984 - val_loss: 1.4637 - val_categorical_accuracy: 0.4444\n",
      "Epoch 110/300\n",
      "3/3 [==============================] - 0s 96ms/step - loss: 1.9984 - categorical_accuracy: 0.3515 - val_loss: 1.5967 - val_categorical_accuracy: 0.3333\n",
      "Epoch 111/300\n",
      "3/3 [==============================] - 0s 96ms/step - loss: 3.9040 - categorical_accuracy: 0.3252 - val_loss: 0.8016 - val_categorical_accuracy: 0.6667\n",
      "Epoch 112/300\n",
      "3/3 [==============================] - 0s 97ms/step - loss: 1.5233 - categorical_accuracy: 0.3844 - val_loss: 1.5757 - val_categorical_accuracy: 0.1111\n",
      "Epoch 113/300\n",
      "3/3 [==============================] - 0s 91ms/step - loss: 1.3475 - categorical_accuracy: 0.3538 - val_loss: 1.3339 - val_categorical_accuracy: 0.0000e+00\n",
      "Epoch 114/300\n",
      "3/3 [==============================] - 0s 105ms/step - loss: 1.1141 - categorical_accuracy: 0.3750 - val_loss: 1.3677 - val_categorical_accuracy: 0.0000e+00\n",
      "Epoch 115/300\n",
      "3/3 [==============================] - 0s 93ms/step - loss: 1.7263 - categorical_accuracy: 0.2592 - val_loss: 4.4248 - val_categorical_accuracy: 0.3333\n",
      "Epoch 116/300\n",
      "3/3 [==============================] - 0s 95ms/step - loss: 2.8959 - categorical_accuracy: 0.3792 - val_loss: 1.8599 - val_categorical_accuracy: 0.1111\n",
      "Epoch 117/300\n",
      "3/3 [==============================] - 0s 97ms/step - loss: 1.1794 - categorical_accuracy: 0.3281 - val_loss: 1.1919 - val_categorical_accuracy: 0.0000e+00\n",
      "Epoch 118/300\n",
      "3/3 [==============================] - 0s 92ms/step - loss: 0.9910 - categorical_accuracy: 0.4836 - val_loss: 1.0032 - val_categorical_accuracy: 0.4444\n",
      "Epoch 119/300\n",
      "3/3 [==============================] - 0s 97ms/step - loss: 0.9393 - categorical_accuracy: 0.6536 - val_loss: 0.9666 - val_categorical_accuracy: 0.4444\n",
      "Epoch 120/300\n",
      "3/3 [==============================] - 0s 99ms/step - loss: 0.9439 - categorical_accuracy: 0.6006 - val_loss: 1.0224 - val_categorical_accuracy: 0.5556\n",
      "Epoch 121/300\n",
      "3/3 [==============================] - 0s 92ms/step - loss: 0.8916 - categorical_accuracy: 0.7633 - val_loss: 1.0644 - val_categorical_accuracy: 0.2222\n",
      "Epoch 122/300\n",
      "3/3 [==============================] - 0s 95ms/step - loss: 0.8542 - categorical_accuracy: 0.7386 - val_loss: 0.9955 - val_categorical_accuracy: 0.4444\n",
      "Epoch 123/300\n",
      "3/3 [==============================] - 0s 89ms/step - loss: 0.8290 - categorical_accuracy: 0.7711 - val_loss: 0.9030 - val_categorical_accuracy: 0.7778\n",
      "Epoch 124/300\n",
      "3/3 [==============================] - 0s 112ms/step - loss: 0.7607 - categorical_accuracy: 0.6950 - val_loss: 0.9500 - val_categorical_accuracy: 0.6667\n",
      "Epoch 125/300\n",
      "3/3 [==============================] - 0s 93ms/step - loss: 0.7558 - categorical_accuracy: 0.6458 - val_loss: 1.0241 - val_categorical_accuracy: 0.3333\n",
      "Epoch 126/300\n",
      "3/3 [==============================] - 0s 103ms/step - loss: 0.6618 - categorical_accuracy: 0.7398 - val_loss: 0.7467 - val_categorical_accuracy: 0.7778\n",
      "Epoch 127/300\n",
      "3/3 [==============================] - 0s 90ms/step - loss: 0.5899 - categorical_accuracy: 0.6917 - val_loss: 0.7096 - val_categorical_accuracy: 0.7778\n",
      "Epoch 128/300\n",
      "3/3 [==============================] - 0s 97ms/step - loss: 0.5678 - categorical_accuracy: 0.7421 - val_loss: 1.0255 - val_categorical_accuracy: 0.3333\n",
      "Epoch 129/300\n",
      "3/3 [==============================] - 0s 94ms/step - loss: 0.5595 - categorical_accuracy: 0.7454 - val_loss: 0.5958 - val_categorical_accuracy: 0.7778\n",
      "Epoch 130/300\n",
      "3/3 [==============================] - 0s 97ms/step - loss: 0.5702 - categorical_accuracy: 0.7314 - val_loss: 0.5988 - val_categorical_accuracy: 0.8889\n",
      "Epoch 131/300\n",
      "3/3 [==============================] - 0s 95ms/step - loss: 0.6233 - categorical_accuracy: 0.7353 - val_loss: 0.6235 - val_categorical_accuracy: 0.7778\n",
      "Epoch 132/300\n",
      "3/3 [==============================] - 0s 96ms/step - loss: 0.5365 - categorical_accuracy: 0.7548 - val_loss: 0.9435 - val_categorical_accuracy: 0.3333\n",
      "Epoch 133/300\n",
      "3/3 [==============================] - 0s 94ms/step - loss: 0.5847 - categorical_accuracy: 0.6676 - val_loss: 0.6380 - val_categorical_accuracy: 0.7778\n",
      "Epoch 134/300\n",
      "3/3 [==============================] - 0s 94ms/step - loss: 0.6211 - categorical_accuracy: 0.7711 - val_loss: 0.7063 - val_categorical_accuracy: 0.7778\n",
      "Epoch 135/300\n",
      "3/3 [==============================] - 0s 97ms/step - loss: 0.5620 - categorical_accuracy: 0.7431 - val_loss: 0.8868 - val_categorical_accuracy: 0.4444\n",
      "Epoch 136/300\n",
      "3/3 [==============================] - 0s 91ms/step - loss: 0.5698 - categorical_accuracy: 0.7421 - val_loss: 0.6958 - val_categorical_accuracy: 0.7778\n",
      "Epoch 137/300\n",
      "3/3 [==============================] - 0s 98ms/step - loss: 0.5106 - categorical_accuracy: 0.7772 - val_loss: 0.6183 - val_categorical_accuracy: 0.7778\n",
      "Epoch 138/300\n",
      "3/3 [==============================] - 0s 89ms/step - loss: 0.4608 - categorical_accuracy: 0.7779 - val_loss: 0.6156 - val_categorical_accuracy: 0.7778\n",
      "Epoch 139/300\n",
      "3/3 [==============================] - 0s 88ms/step - loss: 0.4182 - categorical_accuracy: 0.8651 - val_loss: 0.6413 - val_categorical_accuracy: 0.7778\n",
      "Epoch 140/300\n",
      "3/3 [==============================] - 0s 89ms/step - loss: 0.5334 - categorical_accuracy: 0.7258 - val_loss: 1.0882 - val_categorical_accuracy: 0.3333\n",
      "Epoch 141/300\n",
      "3/3 [==============================] - 0s 91ms/step - loss: 0.5124 - categorical_accuracy: 0.7958 - val_loss: 0.4966 - val_categorical_accuracy: 0.7778\n",
      "Epoch 142/300\n",
      "3/3 [==============================] - 0s 90ms/step - loss: 0.5494 - categorical_accuracy: 0.7483 - val_loss: 0.5448 - val_categorical_accuracy: 0.8889\n",
      "Epoch 143/300\n",
      "3/3 [==============================] - 0s 89ms/step - loss: 0.4987 - categorical_accuracy: 0.7522 - val_loss: 0.9331 - val_categorical_accuracy: 0.4444\n",
      "Epoch 144/300\n",
      "3/3 [==============================] - 0s 89ms/step - loss: 0.4455 - categorical_accuracy: 0.8192 - val_loss: 0.5533 - val_categorical_accuracy: 0.7778\n",
      "Epoch 145/300\n",
      "3/3 [==============================] - 0s 89ms/step - loss: 0.4483 - categorical_accuracy: 0.7750 - val_loss: 0.6375 - val_categorical_accuracy: 0.7778\n",
      "Epoch 146/300\n",
      "3/3 [==============================] - 0s 89ms/step - loss: 0.4669 - categorical_accuracy: 0.8299 - val_loss: 4.1162 - val_categorical_accuracy: 0.0000e+00\n",
      "Epoch 147/300\n",
      "3/3 [==============================] - 0s 88ms/step - loss: 1.8876 - categorical_accuracy: 0.4046 - val_loss: 1.3717 - val_categorical_accuracy: 0.1111\n",
      "Epoch 148/300\n",
      "3/3 [==============================] - 0s 94ms/step - loss: 0.9945 - categorical_accuracy: 0.4839 - val_loss: 0.7323 - val_categorical_accuracy: 0.5556\n",
      "Epoch 149/300\n"
     ]
    },
    {
     "name": "stdout",
     "output_type": "stream",
     "text": [
      "3/3 [==============================] - 0s 91ms/step - loss: 1.4906 - categorical_accuracy: 0.3190 - val_loss: 0.8914 - val_categorical_accuracy: 0.3333\n",
      "Epoch 150/300\n",
      "3/3 [==============================] - 0s 86ms/step - loss: 1.0086 - categorical_accuracy: 0.3492 - val_loss: 1.0906 - val_categorical_accuracy: 0.4444\n",
      "Epoch 151/300\n",
      "3/3 [==============================] - 0s 86ms/step - loss: 0.9536 - categorical_accuracy: 0.6033 - val_loss: 1.1139 - val_categorical_accuracy: 0.4444\n",
      "Epoch 152/300\n",
      "3/3 [==============================] - 0s 85ms/step - loss: 0.8916 - categorical_accuracy: 0.6111 - val_loss: 1.0224 - val_categorical_accuracy: 0.4444\n",
      "Epoch 153/300\n",
      "3/3 [==============================] - 0s 87ms/step - loss: 0.8272 - categorical_accuracy: 0.6234 - val_loss: 0.9792 - val_categorical_accuracy: 0.4444\n",
      "Epoch 154/300\n",
      "3/3 [==============================] - 0s 86ms/step - loss: 0.8021 - categorical_accuracy: 0.5860 - val_loss: 0.8781 - val_categorical_accuracy: 0.7778\n",
      "Epoch 155/300\n",
      "3/3 [==============================] - 0s 87ms/step - loss: 0.6642 - categorical_accuracy: 0.7096 - val_loss: 0.7100 - val_categorical_accuracy: 0.8889\n",
      "Epoch 156/300\n",
      "3/3 [==============================] - 0s 90ms/step - loss: 0.6220 - categorical_accuracy: 0.7594 - val_loss: 0.6925 - val_categorical_accuracy: 0.3333\n",
      "Epoch 157/300\n",
      "3/3 [==============================] - 0s 88ms/step - loss: 0.6517 - categorical_accuracy: 0.6039 - val_loss: 1.7623 - val_categorical_accuracy: 0.3333\n",
      "Epoch 158/300\n",
      "3/3 [==============================] - 0s 95ms/step - loss: 0.7348 - categorical_accuracy: 0.6436 - val_loss: 1.1038 - val_categorical_accuracy: 0.4444\n",
      "Epoch 159/300\n",
      "3/3 [==============================] - 0s 88ms/step - loss: 0.9561 - categorical_accuracy: 0.5557 - val_loss: 0.8666 - val_categorical_accuracy: 0.6667\n",
      "Epoch 160/300\n",
      "3/3 [==============================] - 0s 98ms/step - loss: 0.7124 - categorical_accuracy: 0.6742 - val_loss: 0.5583 - val_categorical_accuracy: 0.7778\n",
      "Epoch 161/300\n",
      "3/3 [==============================] - 0s 94ms/step - loss: 0.7672 - categorical_accuracy: 0.6927 - val_loss: 0.6494 - val_categorical_accuracy: 0.7778\n",
      "Epoch 162/300\n",
      "3/3 [==============================] - 0s 99ms/step - loss: 0.7733 - categorical_accuracy: 0.6855 - val_loss: 0.9121 - val_categorical_accuracy: 0.5556\n",
      "Epoch 163/300\n",
      "3/3 [==============================] - 0s 93ms/step - loss: 0.6815 - categorical_accuracy: 0.6065 - val_loss: 0.8413 - val_categorical_accuracy: 0.6667\n",
      "Epoch 164/300\n",
      "3/3 [==============================] - 0s 94ms/step - loss: 0.6005 - categorical_accuracy: 0.7369 - val_loss: 0.6529 - val_categorical_accuracy: 0.7778\n",
      "Epoch 165/300\n",
      "3/3 [==============================] - 0s 103ms/step - loss: 0.6771 - categorical_accuracy: 0.6715 - val_loss: 0.5978 - val_categorical_accuracy: 0.8889\n",
      "Epoch 166/300\n",
      "3/3 [==============================] - 0s 91ms/step - loss: 0.5087 - categorical_accuracy: 0.7180 - val_loss: 0.8177 - val_categorical_accuracy: 0.5556\n",
      "Epoch 167/300\n",
      "3/3 [==============================] - 0s 97ms/step - loss: 0.5679 - categorical_accuracy: 0.7470 - val_loss: 0.5270 - val_categorical_accuracy: 0.8889\n",
      "Epoch 168/300\n",
      "3/3 [==============================] - 0s 95ms/step - loss: 0.4972 - categorical_accuracy: 0.7616 - val_loss: 0.6269 - val_categorical_accuracy: 0.8889\n",
      "Epoch 169/300\n",
      "3/3 [==============================] - 0s 108ms/step - loss: 0.5008 - categorical_accuracy: 0.7801 - val_loss: 0.4816 - val_categorical_accuracy: 0.8889\n",
      "Epoch 170/300\n",
      "3/3 [==============================] - 0s 113ms/step - loss: 0.4576 - categorical_accuracy: 0.7717 - val_loss: 0.6795 - val_categorical_accuracy: 0.6667\n",
      "Epoch 171/300\n",
      "3/3 [==============================] - 0s 92ms/step - loss: 0.4856 - categorical_accuracy: 0.7717 - val_loss: 0.4030 - val_categorical_accuracy: 0.8889\n",
      "Epoch 172/300\n",
      "3/3 [==============================] - 0s 93ms/step - loss: 0.4638 - categorical_accuracy: 0.8215 - val_loss: 0.4070 - val_categorical_accuracy: 0.8889\n",
      "Epoch 173/300\n",
      "3/3 [==============================] - 0s 95ms/step - loss: 0.3735 - categorical_accuracy: 0.8605 - val_loss: 0.4790 - val_categorical_accuracy: 0.8889\n",
      "Epoch 174/300\n",
      "3/3 [==============================] - 0s 90ms/step - loss: 0.4238 - categorical_accuracy: 0.8254 - val_loss: 0.4490 - val_categorical_accuracy: 0.8889\n",
      "Epoch 175/300\n",
      "3/3 [==============================] - 0s 97ms/step - loss: 0.4430 - categorical_accuracy: 0.7964 - val_loss: 0.3689 - val_categorical_accuracy: 0.8889\n",
      "Epoch 176/300\n",
      "3/3 [==============================] - 0s 119ms/step - loss: 0.3817 - categorical_accuracy: 0.8355 - val_loss: 0.3537 - val_categorical_accuracy: 0.8889\n",
      "Epoch 177/300\n",
      "3/3 [==============================] - 0s 87ms/step - loss: 0.4133 - categorical_accuracy: 0.8182 - val_loss: 0.4137 - val_categorical_accuracy: 0.8889\n",
      "Epoch 178/300\n",
      "3/3 [==============================] - 0s 110ms/step - loss: 0.3915 - categorical_accuracy: 0.8556 - val_loss: 0.4750 - val_categorical_accuracy: 0.8889\n",
      "Epoch 179/300\n",
      "3/3 [==============================] - 0s 96ms/step - loss: 0.3816 - categorical_accuracy: 0.8338 - val_loss: 0.3329 - val_categorical_accuracy: 0.8889\n",
      "Epoch 180/300\n",
      "3/3 [==============================] - 0s 103ms/step - loss: 0.3774 - categorical_accuracy: 0.8332 - val_loss: 0.3382 - val_categorical_accuracy: 0.7778\n",
      "Epoch 181/300\n",
      "3/3 [==============================] - 0s 96ms/step - loss: 0.5004 - categorical_accuracy: 0.7470 - val_loss: 0.6583 - val_categorical_accuracy: 0.7778\n",
      "Epoch 182/300\n",
      "3/3 [==============================] - 0s 101ms/step - loss: 0.4767 - categorical_accuracy: 0.7851 - val_loss: 0.6238 - val_categorical_accuracy: 0.6667\n",
      "Epoch 183/300\n",
      "3/3 [==============================] - 0s 90ms/step - loss: 0.4982 - categorical_accuracy: 0.7174 - val_loss: 1.0002 - val_categorical_accuracy: 0.3333\n",
      "Epoch 184/300\n",
      "3/3 [==============================] - 0s 100ms/step - loss: 0.5937 - categorical_accuracy: 0.6995 - val_loss: 0.7186 - val_categorical_accuracy: 0.6667\n",
      "Epoch 185/300\n",
      "3/3 [==============================] - 0s 103ms/step - loss: 0.5550 - categorical_accuracy: 0.6806 - val_loss: 0.6364 - val_categorical_accuracy: 0.7778\n",
      "Epoch 186/300\n",
      "3/3 [==============================] - 0s 97ms/step - loss: 0.5932 - categorical_accuracy: 0.7018 - val_loss: 0.6910 - val_categorical_accuracy: 0.6667\n",
      "Epoch 187/300\n",
      "3/3 [==============================] - 0s 98ms/step - loss: 0.4516 - categorical_accuracy: 0.8309 - val_loss: 0.6582 - val_categorical_accuracy: 0.7778\n",
      "Epoch 188/300\n",
      "3/3 [==============================] - 0s 94ms/step - loss: 0.4154 - categorical_accuracy: 0.8433 - val_loss: 0.5505 - val_categorical_accuracy: 0.7778\n",
      "Epoch 189/300\n",
      "3/3 [==============================] - 0s 97ms/step - loss: 0.5010 - categorical_accuracy: 0.7326 - val_loss: 0.7959 - val_categorical_accuracy: 0.6667\n",
      "Epoch 190/300\n",
      "3/3 [==============================] - 0s 99ms/step - loss: 0.4077 - categorical_accuracy: 0.8147 - val_loss: 0.4699 - val_categorical_accuracy: 0.7778\n",
      "Epoch 191/300\n",
      "3/3 [==============================] - 0s 89ms/step - loss: 0.5053 - categorical_accuracy: 0.7672 - val_loss: 0.6547 - val_categorical_accuracy: 0.7778\n",
      "Epoch 192/300\n",
      "3/3 [==============================] - 0s 101ms/step - loss: 0.5117 - categorical_accuracy: 0.7577 - val_loss: 0.4553 - val_categorical_accuracy: 0.7778\n",
      "Epoch 193/300\n",
      "3/3 [==============================] - 0s 94ms/step - loss: 0.3615 - categorical_accuracy: 0.8443 - val_loss: 0.4974 - val_categorical_accuracy: 0.8889\n",
      "Epoch 194/300\n",
      "3/3 [==============================] - 0s 104ms/step - loss: 0.3794 - categorical_accuracy: 0.8533 - val_loss: 0.5110 - val_categorical_accuracy: 0.7778\n",
      "Epoch 195/300\n",
      "3/3 [==============================] - 0s 90ms/step - loss: 0.3525 - categorical_accuracy: 0.8433 - val_loss: 0.4510 - val_categorical_accuracy: 0.7778\n",
      "Epoch 196/300\n",
      "3/3 [==============================] - 0s 105ms/step - loss: 0.3846 - categorical_accuracy: 0.8153 - val_loss: 0.4389 - val_categorical_accuracy: 0.7778\n",
      "Epoch 197/300\n",
      "3/3 [==============================] - 0s 92ms/step - loss: 0.3052 - categorical_accuracy: 0.8712 - val_loss: 0.3909 - val_categorical_accuracy: 0.7778\n",
      "Epoch 198/300\n"
     ]
    },
    {
     "name": "stdout",
     "output_type": "stream",
     "text": [
      "3/3 [==============================] - 0s 96ms/step - loss: 0.3106 - categorical_accuracy: 0.8472 - val_loss: 0.6587 - val_categorical_accuracy: 0.6667\n",
      "Epoch 199/300\n",
      "3/3 [==============================] - 0s 91ms/step - loss: 0.3187 - categorical_accuracy: 0.8807 - val_loss: 0.3812 - val_categorical_accuracy: 0.7778\n",
      "Epoch 200/300\n",
      "3/3 [==============================] - 0s 94ms/step - loss: 0.4687 - categorical_accuracy: 0.7668 - val_loss: 0.8462 - val_categorical_accuracy: 0.6667\n",
      "Epoch 201/300\n",
      "3/3 [==============================] - 0s 96ms/step - loss: 0.4257 - categorical_accuracy: 0.7600 - val_loss: 0.4497 - val_categorical_accuracy: 0.7778\n",
      "Epoch 202/300\n",
      "3/3 [==============================] - 0s 91ms/step - loss: 0.3620 - categorical_accuracy: 0.8338 - val_loss: 0.5564 - val_categorical_accuracy: 0.8889\n",
      "Epoch 203/300\n",
      "3/3 [==============================] - 0s 95ms/step - loss: 0.3563 - categorical_accuracy: 0.8579 - val_loss: 0.3954 - val_categorical_accuracy: 0.7778\n",
      "Epoch 204/300\n",
      "3/3 [==============================] - 0s 90ms/step - loss: 0.3210 - categorical_accuracy: 0.8400 - val_loss: 0.6653 - val_categorical_accuracy: 0.6667\n",
      "Epoch 205/300\n",
      "3/3 [==============================] - 0s 99ms/step - loss: 0.3930 - categorical_accuracy: 0.8562 - val_loss: 0.3470 - val_categorical_accuracy: 0.7778\n",
      "Epoch 206/300\n",
      "3/3 [==============================] - 0s 91ms/step - loss: 0.3612 - categorical_accuracy: 0.7863 - val_loss: 0.6071 - val_categorical_accuracy: 0.7778\n",
      "Epoch 207/300\n",
      "3/3 [==============================] - 0s 97ms/step - loss: 0.3938 - categorical_accuracy: 0.8400 - val_loss: 0.4305 - val_categorical_accuracy: 0.8889\n",
      "Epoch 208/300\n",
      "3/3 [==============================] - 0s 90ms/step - loss: 0.3100 - categorical_accuracy: 0.8719 - val_loss: 0.4343 - val_categorical_accuracy: 0.8889\n",
      "Epoch 209/300\n",
      "3/3 [==============================] - 0s 90ms/step - loss: 0.2728 - categorical_accuracy: 0.8875 - val_loss: 0.4119 - val_categorical_accuracy: 0.7778\n",
      "Epoch 210/300\n",
      "3/3 [==============================] - 0s 93ms/step - loss: 0.3176 - categorical_accuracy: 0.8462 - val_loss: 0.5317 - val_categorical_accuracy: 0.7778\n",
      "Epoch 211/300\n",
      "3/3 [==============================] - 0s 88ms/step - loss: 0.3122 - categorical_accuracy: 0.8937 - val_loss: 0.3955 - val_categorical_accuracy: 0.7778\n",
      "Epoch 212/300\n",
      "3/3 [==============================] - 0s 89ms/step - loss: 0.3329 - categorical_accuracy: 0.8081 - val_loss: 0.4068 - val_categorical_accuracy: 0.8889\n",
      "Epoch 213/300\n",
      "3/3 [==============================] - 0s 102ms/step - loss: 0.2574 - categorical_accuracy: 0.8618 - val_loss: 0.4154 - val_categorical_accuracy: 0.8889\n",
      "Epoch 214/300\n",
      "3/3 [==============================] - 0s 90ms/step - loss: 0.2989 - categorical_accuracy: 0.8920 - val_loss: 0.5635 - val_categorical_accuracy: 0.7778\n",
      "Epoch 215/300\n",
      "3/3 [==============================] - 0s 98ms/step - loss: 0.3213 - categorical_accuracy: 0.8618 - val_loss: 0.3958 - val_categorical_accuracy: 0.7778\n",
      "Epoch 216/300\n",
      "3/3 [==============================] - 0s 89ms/step - loss: 0.2701 - categorical_accuracy: 0.8377 - val_loss: 0.3960 - val_categorical_accuracy: 0.8889\n",
      "Epoch 217/300\n",
      "3/3 [==============================] - 0s 99ms/step - loss: 0.2380 - categorical_accuracy: 0.9294 - val_loss: 0.3927 - val_categorical_accuracy: 0.7778\n",
      "Epoch 218/300\n",
      "3/3 [==============================] - 0s 88ms/step - loss: 0.3034 - categorical_accuracy: 0.8647 - val_loss: 0.5006 - val_categorical_accuracy: 0.7778\n",
      "Epoch 219/300\n",
      "3/3 [==============================] - 0s 99ms/step - loss: 0.2750 - categorical_accuracy: 0.8394 - val_loss: 0.3823 - val_categorical_accuracy: 0.8889\n",
      "Epoch 220/300\n",
      "3/3 [==============================] - 0s 90ms/step - loss: 0.2551 - categorical_accuracy: 0.9194 - val_loss: 0.5655 - val_categorical_accuracy: 0.7778\n",
      "Epoch 221/300\n",
      "3/3 [==============================] - 0s 90ms/step - loss: 0.3449 - categorical_accuracy: 0.8237 - val_loss: 0.5928 - val_categorical_accuracy: 0.6667\n",
      "Epoch 222/300\n",
      "3/3 [==============================] - 0s 89ms/step - loss: 0.3685 - categorical_accuracy: 0.8546 - val_loss: 0.4019 - val_categorical_accuracy: 0.8889\n",
      "Epoch 223/300\n",
      "3/3 [==============================] - 0s 89ms/step - loss: 0.1927 - categorical_accuracy: 0.9278 - val_loss: 0.4153 - val_categorical_accuracy: 0.8889\n",
      "Epoch 224/300\n",
      "3/3 [==============================] - 0s 100ms/step - loss: 0.1950 - categorical_accuracy: 0.9535 - val_loss: 0.7294 - val_categorical_accuracy: 0.7778\n",
      "Epoch 225/300\n",
      "3/3 [==============================] - 0s 98ms/step - loss: 0.4586 - categorical_accuracy: 0.8091 - val_loss: 0.9282 - val_categorical_accuracy: 0.6667\n",
      "Epoch 226/300\n",
      "3/3 [==============================] - 0s 94ms/step - loss: 0.4515 - categorical_accuracy: 0.8237 - val_loss: 0.3469 - val_categorical_accuracy: 0.8889\n",
      "Epoch 227/300\n",
      "3/3 [==============================] - 0s 102ms/step - loss: 0.2892 - categorical_accuracy: 0.8283 - val_loss: 0.6662 - val_categorical_accuracy: 0.6667\n",
      "Epoch 228/300\n",
      "3/3 [==============================] - 0s 90ms/step - loss: 0.3726 - categorical_accuracy: 0.8439 - val_loss: 0.3751 - val_categorical_accuracy: 0.7778\n",
      "Epoch 229/300\n",
      "3/3 [==============================] - 0s 103ms/step - loss: 0.3161 - categorical_accuracy: 0.8517 - val_loss: 0.5969 - val_categorical_accuracy: 0.7778\n",
      "Epoch 230/300\n",
      "3/3 [==============================] - 0s 94ms/step - loss: 0.3649 - categorical_accuracy: 0.7840 - val_loss: 0.3261 - val_categorical_accuracy: 0.8889\n",
      "Epoch 231/300\n",
      "3/3 [==============================] - 0s 98ms/step - loss: 0.2588 - categorical_accuracy: 0.9076 - val_loss: 0.3079 - val_categorical_accuracy: 0.8889\n",
      "Epoch 232/300\n",
      "3/3 [==============================] - 0s 89ms/step - loss: 0.2586 - categorical_accuracy: 0.8937 - val_loss: 0.3065 - val_categorical_accuracy: 0.8889\n",
      "Epoch 233/300\n",
      "3/3 [==============================] - 0s 92ms/step - loss: 0.2642 - categorical_accuracy: 0.8712 - val_loss: 0.2880 - val_categorical_accuracy: 0.8889\n",
      "Epoch 234/300\n",
      "3/3 [==============================] - 0s 101ms/step - loss: 0.2468 - categorical_accuracy: 0.8859 - val_loss: 0.2613 - val_categorical_accuracy: 0.8889\n",
      "Epoch 235/300\n",
      "3/3 [==============================] - 0s 88ms/step - loss: 0.2438 - categorical_accuracy: 0.8501 - val_loss: 0.5986 - val_categorical_accuracy: 0.7778\n",
      "Epoch 236/300\n",
      "3/3 [==============================] - 0s 97ms/step - loss: 0.2479 - categorical_accuracy: 0.9015 - val_loss: 0.3439 - val_categorical_accuracy: 0.7778\n",
      "Epoch 237/300\n",
      "3/3 [==============================] - 0s 94ms/step - loss: 0.3638 - categorical_accuracy: 0.8091 - val_loss: 0.9276 - val_categorical_accuracy: 0.5556\n",
      "Epoch 238/300\n",
      "3/3 [==============================] - 0s 102ms/step - loss: 0.5245 - categorical_accuracy: 0.7571 - val_loss: 0.2603 - val_categorical_accuracy: 0.8889\n",
      "Epoch 239/300\n",
      "3/3 [==============================] - 0s 93ms/step - loss: 0.5828 - categorical_accuracy: 0.7851 - val_loss: 0.3372 - val_categorical_accuracy: 0.8889\n",
      "Epoch 240/300\n",
      "3/3 [==============================] - 0s 94ms/step - loss: 0.3757 - categorical_accuracy: 0.8589 - val_loss: 0.5725 - val_categorical_accuracy: 0.7778\n",
      "Epoch 241/300\n",
      "3/3 [==============================] - 0s 88ms/step - loss: 0.3175 - categorical_accuracy: 0.8377 - val_loss: 0.4962 - val_categorical_accuracy: 0.7778\n",
      "Epoch 242/300\n",
      "3/3 [==============================] - 0s 99ms/step - loss: 0.4932 - categorical_accuracy: 0.7622 - val_loss: 0.5463 - val_categorical_accuracy: 0.7778\n",
      "Epoch 243/300\n",
      "3/3 [==============================] - 0s 90ms/step - loss: 0.3723 - categorical_accuracy: 0.8299 - val_loss: 0.4994 - val_categorical_accuracy: 0.7778\n",
      "Epoch 244/300\n",
      "3/3 [==============================] - 0s 99ms/step - loss: 0.3250 - categorical_accuracy: 0.8601 - val_loss: 0.3515 - val_categorical_accuracy: 0.7778\n",
      "Epoch 245/300\n",
      "3/3 [==============================] - 0s 89ms/step - loss: 0.2600 - categorical_accuracy: 0.8953 - val_loss: 0.3142 - val_categorical_accuracy: 0.8889\n",
      "Epoch 246/300\n",
      "3/3 [==============================] - 0s 97ms/step - loss: 0.2476 - categorical_accuracy: 0.8914 - val_loss: 0.2886 - val_categorical_accuracy: 0.8889\n",
      "Epoch 247/300\n"
     ]
    },
    {
     "name": "stdout",
     "output_type": "stream",
     "text": [
      "3/3 [==============================] - 0s 93ms/step - loss: 0.2598 - categorical_accuracy: 0.8651 - val_loss: 0.2685 - val_categorical_accuracy: 0.7778\n",
      "Epoch 248/300\n",
      "3/3 [==============================] - 0s 92ms/step - loss: 0.2846 - categorical_accuracy: 0.8819 - val_loss: 0.4031 - val_categorical_accuracy: 0.7778\n",
      "Epoch 249/300\n",
      "3/3 [==============================] - 0s 95ms/step - loss: 0.1912 - categorical_accuracy: 0.9194 - val_loss: 0.3838 - val_categorical_accuracy: 0.8889\n",
      "Epoch 250/300\n",
      "3/3 [==============================] - 0s 89ms/step - loss: 0.3400 - categorical_accuracy: 0.8361 - val_loss: 0.3073 - val_categorical_accuracy: 0.8889\n",
      "Epoch 251/300\n",
      "3/3 [==============================] - 0s 94ms/step - loss: 0.2358 - categorical_accuracy: 0.8969 - val_loss: 0.3187 - val_categorical_accuracy: 0.8889\n",
      "Epoch 252/300\n",
      "3/3 [==============================] - 0s 90ms/step - loss: 0.1984 - categorical_accuracy: 0.9294 - val_loss: 0.3183 - val_categorical_accuracy: 0.7778\n",
      "Epoch 253/300\n",
      "3/3 [==============================] - 0s 100ms/step - loss: 0.2290 - categorical_accuracy: 0.8579 - val_loss: 0.3822 - val_categorical_accuracy: 0.7778\n",
      "Epoch 254/300\n",
      "3/3 [==============================] - 0s 90ms/step - loss: 0.2202 - categorical_accuracy: 0.8865 - val_loss: 0.3438 - val_categorical_accuracy: 0.8889\n",
      "Epoch 255/300\n",
      "3/3 [==============================] - 0s 98ms/step - loss: 0.2349 - categorical_accuracy: 0.9021 - val_loss: 0.2695 - val_categorical_accuracy: 0.8889\n",
      "Epoch 256/300\n",
      "3/3 [==============================] - 0s 94ms/step - loss: 0.1716 - categorical_accuracy: 0.9239 - val_loss: 0.2698 - val_categorical_accuracy: 0.7778\n",
      "Epoch 257/300\n",
      "3/3 [==============================] - 0s 96ms/step - loss: 0.1790 - categorical_accuracy: 0.9262 - val_loss: 0.3420 - val_categorical_accuracy: 0.7778\n",
      "Epoch 258/300\n",
      "3/3 [==============================] - 0s 97ms/step - loss: 0.1723 - categorical_accuracy: 0.9116 - val_loss: 0.2761 - val_categorical_accuracy: 0.8889\n",
      "Epoch 259/300\n",
      "3/3 [==============================] - 0s 88ms/step - loss: 0.2256 - categorical_accuracy: 0.9184 - val_loss: 0.3281 - val_categorical_accuracy: 0.7778\n",
      "Epoch 260/300\n",
      "3/3 [==============================] - 0s 99ms/step - loss: 0.1727 - categorical_accuracy: 0.9083 - val_loss: 0.3087 - val_categorical_accuracy: 0.8889\n",
      "Epoch 261/300\n",
      "3/3 [==============================] - 0s 92ms/step - loss: 0.1520 - categorical_accuracy: 0.9457 - val_loss: 0.4197 - val_categorical_accuracy: 0.6667\n",
      "Epoch 262/300\n",
      "3/3 [==============================] - 0s 104ms/step - loss: 0.1136 - categorical_accuracy: 0.9480 - val_loss: 0.1992 - val_categorical_accuracy: 0.8889\n",
      "Epoch 263/300\n",
      "3/3 [==============================] - 0s 95ms/step - loss: 0.1382 - categorical_accuracy: 0.9362 - val_loss: 0.2711 - val_categorical_accuracy: 0.8889\n",
      "Epoch 264/300\n",
      "3/3 [==============================] - 0s 103ms/step - loss: 0.1296 - categorical_accuracy: 0.9362 - val_loss: 0.2617 - val_categorical_accuracy: 0.8889\n",
      "Epoch 265/300\n",
      "3/3 [==============================] - 0s 89ms/step - loss: 0.1138 - categorical_accuracy: 0.9441 - val_loss: 0.3783 - val_categorical_accuracy: 0.7778\n",
      "Epoch 266/300\n",
      "3/3 [==============================] - 0s 105ms/step - loss: 0.1171 - categorical_accuracy: 0.9597 - val_loss: 0.3373 - val_categorical_accuracy: 0.7778\n",
      "Epoch 267/300\n",
      "3/3 [==============================] - 0s 91ms/step - loss: 0.1091 - categorical_accuracy: 0.9519 - val_loss: 0.1622 - val_categorical_accuracy: 0.8889\n",
      "Epoch 268/300\n",
      "3/3 [==============================] - 0s 103ms/step - loss: 0.0884 - categorical_accuracy: 0.9496 - val_loss: 1.2226 - val_categorical_accuracy: 0.6667\n",
      "Epoch 269/300\n",
      "3/3 [==============================] - 0s 89ms/step - loss: 0.5569 - categorical_accuracy: 0.8624 - val_loss: 0.2119 - val_categorical_accuracy: 0.8889\n",
      "Epoch 270/300\n",
      "3/3 [==============================] - 0s 100ms/step - loss: 0.1986 - categorical_accuracy: 0.9116 - val_loss: 0.2442 - val_categorical_accuracy: 0.8889\n",
      "Epoch 271/300\n",
      "3/3 [==============================] - 0s 94ms/step - loss: 0.1446 - categorical_accuracy: 0.9122 - val_loss: 0.3023 - val_categorical_accuracy: 0.7778\n",
      "Epoch 272/300\n",
      "3/3 [==============================] - 0s 100ms/step - loss: 0.1158 - categorical_accuracy: 0.9457 - val_loss: 0.2523 - val_categorical_accuracy: 0.7778\n",
      "Epoch 273/300\n",
      "3/3 [==============================] - 0s 94ms/step - loss: 0.1230 - categorical_accuracy: 0.9837 - val_loss: 0.2357 - val_categorical_accuracy: 0.8889\n",
      "Epoch 274/300\n",
      "3/3 [==============================] - 0s 98ms/step - loss: 0.1475 - categorical_accuracy: 0.9362 - val_loss: 0.4183 - val_categorical_accuracy: 0.8889\n",
      "Epoch 275/300\n",
      "3/3 [==============================] - 0s 93ms/step - loss: 0.1329 - categorical_accuracy: 0.9496 - val_loss: 0.2731 - val_categorical_accuracy: 0.7778\n",
      "Epoch 276/300\n",
      "3/3 [==============================] - 0s 98ms/step - loss: 0.1207 - categorical_accuracy: 0.9473 - val_loss: 0.5691 - val_categorical_accuracy: 0.7778\n",
      "Epoch 277/300\n",
      "3/3 [==============================] - 0s 94ms/step - loss: 0.2308 - categorical_accuracy: 0.8998 - val_loss: 0.5781 - val_categorical_accuracy: 0.7778\n",
      "Epoch 278/300\n",
      "3/3 [==============================] - 0s 92ms/step - loss: 0.2443 - categorical_accuracy: 0.8741 - val_loss: 0.2416 - val_categorical_accuracy: 0.8889\n",
      "Epoch 279/300\n",
      "3/3 [==============================] - 0s 91ms/step - loss: 0.0955 - categorical_accuracy: 0.9636 - val_loss: 0.2946 - val_categorical_accuracy: 0.8889\n",
      "Epoch 280/300\n",
      "3/3 [==============================] - 0s 93ms/step - loss: 0.1184 - categorical_accuracy: 0.9395 - val_loss: 0.2118 - val_categorical_accuracy: 0.8889\n",
      "Epoch 281/300\n",
      "3/3 [==============================] - 0s 105ms/step - loss: 0.0891 - categorical_accuracy: 1.0000 - val_loss: 0.2474 - val_categorical_accuracy: 0.8889\n",
      "Epoch 282/300\n",
      "3/3 [==============================] - 0s 93ms/step - loss: 0.0990 - categorical_accuracy: 0.9580 - val_loss: 0.3818 - val_categorical_accuracy: 0.7778\n",
      "Epoch 283/300\n",
      "3/3 [==============================] - 0s 90ms/step - loss: 0.0706 - categorical_accuracy: 0.9821 - val_loss: 0.2826 - val_categorical_accuracy: 0.7778\n",
      "Epoch 284/300\n",
      "3/3 [==============================] - 0s 113ms/step - loss: 0.1096 - categorical_accuracy: 0.9620 - val_loss: 0.5729 - val_categorical_accuracy: 0.7778\n",
      "Epoch 285/300\n",
      "3/3 [==============================] - 0s 93ms/step - loss: 0.1365 - categorical_accuracy: 0.9441 - val_loss: 0.5341 - val_categorical_accuracy: 0.7778\n",
      "Epoch 286/300\n",
      "3/3 [==============================] - 0s 105ms/step - loss: 0.1856 - categorical_accuracy: 0.9362 - val_loss: 0.4133 - val_categorical_accuracy: 0.7778\n",
      "Epoch 287/300\n",
      "3/3 [==============================] - 0s 91ms/step - loss: 0.1708 - categorical_accuracy: 0.9278 - val_loss: 0.3727 - val_categorical_accuracy: 0.7778\n",
      "Epoch 288/300\n",
      "3/3 [==============================] - 0s 105ms/step - loss: 0.1034 - categorical_accuracy: 0.9541 - val_loss: 0.1461 - val_categorical_accuracy: 0.8889\n",
      "Epoch 289/300\n",
      "3/3 [==============================] - 0s 95ms/step - loss: 0.0779 - categorical_accuracy: 0.9720 - val_loss: 0.1755 - val_categorical_accuracy: 0.8889\n",
      "Epoch 290/300\n",
      "3/3 [==============================] - 0s 91ms/step - loss: 0.0543 - categorical_accuracy: 1.0000 - val_loss: 0.3275 - val_categorical_accuracy: 0.8889\n",
      "Epoch 291/300\n",
      "3/3 [==============================] - 0s 102ms/step - loss: 0.0559 - categorical_accuracy: 0.9938 - val_loss: 0.4490 - val_categorical_accuracy: 0.7778\n",
      "Epoch 292/300\n",
      "3/3 [==============================] - 0s 116ms/step - loss: 0.1249 - categorical_accuracy: 0.9496 - val_loss: 0.5346 - val_categorical_accuracy: 0.7778\n",
      "Epoch 293/300\n",
      "3/3 [==============================] - 0s 95ms/step - loss: 0.2377 - categorical_accuracy: 0.8826 - val_loss: 0.7658 - val_categorical_accuracy: 0.7778\n",
      "Epoch 294/300\n",
      "3/3 [==============================] - 0s 96ms/step - loss: 0.6853 - categorical_accuracy: 0.7880 - val_loss: 1.0914 - val_categorical_accuracy: 0.5556\n",
      "Epoch 295/300\n",
      "3/3 [==============================] - 0s 116ms/step - loss: 0.4140 - categorical_accuracy: 0.8439 - val_loss: 1.2107 - val_categorical_accuracy: 0.7778\n",
      "Epoch 296/300\n"
     ]
    },
    {
     "name": "stdout",
     "output_type": "stream",
     "text": [
      "3/3 [==============================] - 0s 99ms/step - loss: 0.7023 - categorical_accuracy: 0.7304 - val_loss: 0.7595 - val_categorical_accuracy: 0.4444\n",
      "Epoch 297/300\n",
      "3/3 [==============================] - 0s 98ms/step - loss: 0.3830 - categorical_accuracy: 0.8098 - val_loss: 0.4710 - val_categorical_accuracy: 0.7778\n",
      "Epoch 298/300\n",
      "3/3 [==============================] - 0s 96ms/step - loss: 0.3459 - categorical_accuracy: 0.8494 - val_loss: 0.5361 - val_categorical_accuracy: 0.8889\n",
      "Epoch 299/300\n",
      "3/3 [==============================] - 0s 89ms/step - loss: 0.3614 - categorical_accuracy: 0.8556 - val_loss: 0.7317 - val_categorical_accuracy: 0.4444\n",
      "Epoch 300/300\n",
      "3/3 [==============================] - 0s 96ms/step - loss: 0.3325 - categorical_accuracy: 0.8501 - val_loss: 0.0879 - val_categorical_accuracy: 1.0000\n"
     ]
    }
   ],
   "source": [
    "history = model.fit(x_train,y_train,epochs=300,verbose=1,validation_data=(x_test,y_test))"
   ]
  },
  {
   "cell_type": "code",
   "execution_count": 27,
   "id": "cJIL5jO93YGU",
   "metadata": {
    "id": "cJIL5jO93YGU"
   },
   "outputs": [],
   "source": [
    "def visualize(history,iterations):\n",
    "  iter = range(iterations)\n",
    "  plt.figure()\n",
    "  plt.plot(iter,history.history[\"loss\"],label= 'train_loss')\n",
    "  plt.plot(iter,history.history[\"val_loss\"],label = 'test_loss')\n",
    "  plt.figure()\n",
    "  plt.plot(iter,history.history[\"categorical_accuracy\"],label = 'train_accuracy')\n",
    "  plt.plot(iter,history.history[\"val_categorical_accuracy\"],label='test_accuracy')\n",
    "  plt.legend()\n"
   ]
  },
  {
   "cell_type": "code",
   "execution_count": 92,
   "id": "k632BbM34gb4",
   "metadata": {
    "colab": {
     "base_uri": "https://localhost:8080/",
     "height": 513
    },
    "id": "k632BbM34gb4",
    "outputId": "b51de763-15aa-4484-8922-32b263856d63"
   },
   "outputs": [
    {
     "data": {
      "image/png": "[encoded data removed]",
      "text/plain": [
       "<Figure size 432x288 with 1 Axes>"
      ]
     },
     "metadata": {
      "needs_background": "light"
     },
     "output_type": "display_data"
    },
    {
     "data": {
      "image/png": "[encoded data removed]",
      "text/plain": [
       "<Figure size 432x288 with 1 Axes>"
      ]
     },
     "metadata": {
      "needs_background": "light"
     },
     "output_type": "display_data"
    }
   ],
   "source": [
    "visualize(history,300)"
   ]
  },
  {
   "cell_type": "code",
   "execution_count": 93,
   "id": "NgksjxKc5c1o",
   "metadata": {
    "colab": {
     "base_uri": "https://localhost:8080/"
    },
    "id": "NgksjxKc5c1o",
    "outputId": "b681f52b-81a8-4829-da21-a7991e862c19"
   },
   "outputs": [],
   "source": [
    "model.save('action.h5')"
   ]
  },
  {
   "cell_type": "code",
   "execution_count": 28,
   "id": "DLdF24gT6bCS",
   "metadata": {
    "id": "DLdF24gT6bCS"
   },
   "outputs": [
    {
     "name": "stdout",
     "output_type": "stream",
     "text": [
      "Model: \"sequential_3\"\n",
      "_________________________________________________________________\n",
      "Layer (type)                 Output Shape              Param #   \n",
      "=================================================================\n",
      "lstm_9 (LSTM)                (None, 30, 64)            442112    \n",
      "_________________________________________________________________\n",
      "lstm_10 (LSTM)               (None, 30, 128)           98816     \n",
      "_________________________________________________________________\n",
      "lstm_11 (LSTM)               (None, 64)                49408     \n",
      "_________________________________________________________________\n",
      "dense_9 (Dense)              (None, 64)                4160      \n",
      "_________________________________________________________________\n",
      "dense_10 (Dense)             (None, 20)                1300      \n",
      "_________________________________________________________________\n",
      "dense_11 (Dense)             (None, 3)                 63        \n",
      "=================================================================\n",
      "Total params: 595,859\n",
      "Trainable params: 595,859\n",
      "Non-trainable params: 0\n",
      "_________________________________________________________________\n"
     ]
    }
   ],
   "source": [
    "model.load_weights('action.h5')\n",
    "model.summary()"
   ]
  },
  {
   "cell_type": "code",
   "execution_count": 29,
   "id": "MLNgDq_77lPR",
   "metadata": {
    "id": "MLNgDq_77lPR"
   },
   "outputs": [
    {
     "name": "stdout",
     "output_type": "stream",
     "text": [
      "[[[5 1]\n",
      "  [0 3]]\n",
      "\n",
      " [[8 0]\n",
      "  [0 1]]\n",
      "\n",
      " [[4 0]\n",
      "  [1 4]]]\n",
      "0.8888888888888888\n"
     ]
    }
   ],
   "source": [
    "from sklearn.metrics import multilabel_confusion_matrix, accuracy_score\n",
    "\n",
    "yhat = np.argmax(model.predict(x_test),axis=1)\n",
    "ytrue = np.argmax(y_test,axis=1)\n",
    "print(multilabel_confusion_matrix(ytrue,yhat))\n",
    "print(accuracy_score(ytrue,yhat))"
   ]
  },
  {
   "cell_type": "code",
   "execution_count": 30,
   "id": "245ea260",
   "metadata": {},
   "outputs": [],
   "source": [
    "def viz_labels(labels,actions,threshold,sentence,frame):\n",
    "    label = np.argmax(labels,axis=1)[0]\n",
    "    if labels[0][label]>threshold:\n",
    "            if len(sentence)>0:\n",
    "                if actions[label]!=sentence[-1]:\n",
    "                    sentence.append(actions[label])\n",
    "            else:\n",
    "                sentence.append(actions[label])\n",
    "            sentence = sentence[-5:]\n",
    "    cv2.rectangle(frame,(0,0),(640,40),(255,15,0),-1)\n",
    "    cv2.putText(frame,''.join(sentence),(3,30),cv2.FONT_HERSHEY_SIMPLEX,1,(255,255,255),2,cv2.LINE_AA)\n",
    "    return frame"
   ]
  },
  {
   "cell_type": "code",
   "execution_count": 40,
   "id": "af5dbe13",
   "metadata": {},
   "outputs": [],
   "source": [
    "def prob_viz(labels,actions,frame):\n",
    "    colors = [(245,117,16),(117,245,16),(16,117,245)]\n",
    "    for i,prob in enumerate(labels[0]):\n",
    "        cv2.rectangle(frame,(0,60+40*i),(int(prob*100),90+40*i),colors[i],-1)\n",
    "        cv2.putText(frame,actions[i],(0,85+40*i),cv2.FONT_HERSHEY_SIMPLEX,1,(255,255,255),2,cv2.LINE_AA)\n",
    "    return frame"
   ]
  },
  {
   "cell_type": "markdown",
   "id": "e104aa08",
   "metadata": {
    "colab": {
     "base_uri": "https://localhost:8080/"
    },
    "id": "CMLItxa-75MF",
    "outputId": "d7ecb069-910c-4d2c-8737-6bad9c261aa5"
   },
   "source": [
    "# 4. Testing in Real Time"
   ]
  },
  {
   "cell_type": "code",
   "execution_count": 41,
   "id": "4ZqjCL9w753z",
   "metadata": {
    "id": "4ZqjCL9w753z"
   },
   "outputs": [],
   "source": [
    "sequence = []\n",
    "sentence = []\n",
    "threshold = 0.6\n",
    "cap = cv2.VideoCapture(-1)\n",
    "with mp_holistic.Holistic(min_detection_confidence=0.5,min_tracking_confidence=0.5) as holistic:\n",
    "    while cap.isOpened():\n",
    "        \n",
    "        ret, frame = cap.read()\n",
    "        result = feature_detect(frame,holistic)\n",
    "        draw_styled_features(frame,result)\n",
    "        sequence.append(extract_features(result))\n",
    "        sequence = sequence[-30:]\n",
    "        if len(sequence)==30:   \n",
    "            labels = model.predict(np.array(sequence).reshape(1,30,1662))\n",
    "            #label = np.argmax(labels,axis=1)[0]\n",
    "#             print(actions[label])\n",
    "            frame = prob_viz(labels,actions,frame)\n",
    "            \n",
    "        #viz label\n",
    "        #frame = viz_labels(labels,actions,threshold,sentence,frame)\n",
    "        \n",
    "        cv2.imshow('output',frame)\n",
    "        \n",
    "        if cv2.waitKey(1)& 0xFF == ord('q'):\n",
    "            break\n",
    "    cap.release()\n",
    "    cv2.destroyAllWindows()"
   ]
  },
  {
   "cell_type": "code",
   "execution_count": 37,
   "id": "ee3e84c5",
   "metadata": {},
   "outputs": [],
   "source": [
    "cap.release()\n",
    "cv2.destroyAllWindows()"
   ]
  },
  {
   "cell_type": "code",
   "execution_count": null,
   "id": "2fc0ef18",
   "metadata": {},
   "outputs": [],
   "source": []
  },
  {
   "cell_type": "code",
   "execution_count": null,
   "id": "b7b4332f",
   "metadata": {},
   "outputs": [],
   "source": []
  }
 ],
 "metadata": {
  "accelerator": "GPU",
  "colab": {
   "collapsed_sections": [],
   "name": "Untitled.ipynb",
   "provenance": []
  },
  "kernelspec": {
   "display_name": "Python 3 (ipykernel)",
   "language": "python",
   "name": "python3"
  },
  "language_info": {
   "codemirror_mode": {
    "name": "ipython",
    "version": 3
   },
   "file_extension": ".py",
   "mimetype": "text/x-python",
   "name": "python",
   "nbconvert_exporter": "python",
   "pygments_lexer": "ipython3",
   "version": "3.8.10"
  }
 },
 "nbformat": 4,
 "nbformat_minor": 5
}
